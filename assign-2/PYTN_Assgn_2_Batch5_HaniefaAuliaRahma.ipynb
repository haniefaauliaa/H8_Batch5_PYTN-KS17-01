{
 "cells": [
  {
   "cell_type": "markdown",
   "id": "d095868a",
   "metadata": {},
   "source": [
    "# PYTN-Assgn-2\n",
    "----\n",
    "- Nama : Haniefa Aulia Rahma\n",
    "- Kode : PYTN-KS-17-01\n",
    "- Instructor : Kak Chamdan"
   ]
  },
  {
   "cell_type": "markdown",
   "id": "d0ec8fed",
   "metadata": {},
   "source": [
    "# Data Preparation"
   ]
  },
  {
   "cell_type": "code",
   "execution_count": 202,
   "id": "eb2ddf65",
   "metadata": {},
   "outputs": [],
   "source": [
    "import math\n",
    "import numpy as np\n",
    "import pandas as pd\n",
    "from scipy import stats\n",
    "from scipy.stats import anderson\n",
    "import matplotlib.pyplot as plt"
   ]
  },
  {
   "cell_type": "code",
   "execution_count": 203,
   "id": "6105c2ae",
   "metadata": {},
   "outputs": [],
   "source": [
    "file_path = 'C:\\\\Users\\\\Admin\\\\Hactiv8\\\\assignment\\\\nyc-rolling-sales.csv'\n",
    "df = pd.read_csv(file_path)"
   ]
  },
  {
   "cell_type": "markdown",
   "id": "fd338157",
   "metadata": {},
   "source": [
    "# Data Preprocessing"
   ]
  },
  {
   "cell_type": "code",
   "execution_count": 204,
   "id": "98d7e86a",
   "metadata": {},
   "outputs": [
    {
     "data": {
      "text/html": [
       "<div>\n",
       "<style scoped>\n",
       "    .dataframe tbody tr th:only-of-type {\n",
       "        vertical-align: middle;\n",
       "    }\n",
       "\n",
       "    .dataframe tbody tr th {\n",
       "        vertical-align: top;\n",
       "    }\n",
       "\n",
       "    .dataframe thead th {\n",
       "        text-align: right;\n",
       "    }\n",
       "</style>\n",
       "<table border=\"1\" class=\"dataframe\">\n",
       "  <thead>\n",
       "    <tr style=\"text-align: right;\">\n",
       "      <th></th>\n",
       "      <th>Unnamed: 0</th>\n",
       "      <th>BOROUGH</th>\n",
       "      <th>NEIGHBORHOOD</th>\n",
       "      <th>BUILDING CLASS CATEGORY</th>\n",
       "      <th>TAX CLASS AT PRESENT</th>\n",
       "      <th>BLOCK</th>\n",
       "      <th>LOT</th>\n",
       "      <th>EASE-MENT</th>\n",
       "      <th>BUILDING CLASS AT PRESENT</th>\n",
       "      <th>ADDRESS</th>\n",
       "      <th>...</th>\n",
       "      <th>RESIDENTIAL UNITS</th>\n",
       "      <th>COMMERCIAL UNITS</th>\n",
       "      <th>TOTAL UNITS</th>\n",
       "      <th>LAND SQUARE FEET</th>\n",
       "      <th>GROSS SQUARE FEET</th>\n",
       "      <th>YEAR BUILT</th>\n",
       "      <th>TAX CLASS AT TIME OF SALE</th>\n",
       "      <th>BUILDING CLASS AT TIME OF SALE</th>\n",
       "      <th>SALE PRICE</th>\n",
       "      <th>SALE DATE</th>\n",
       "    </tr>\n",
       "  </thead>\n",
       "  <tbody>\n",
       "    <tr>\n",
       "      <th>0</th>\n",
       "      <td>4</td>\n",
       "      <td>1</td>\n",
       "      <td>ALPHABET CITY</td>\n",
       "      <td>07 RENTALS - WALKUP APARTMENTS</td>\n",
       "      <td>2A</td>\n",
       "      <td>392</td>\n",
       "      <td>6</td>\n",
       "      <td></td>\n",
       "      <td>C2</td>\n",
       "      <td>153 AVENUE B</td>\n",
       "      <td>...</td>\n",
       "      <td>5</td>\n",
       "      <td>0</td>\n",
       "      <td>5</td>\n",
       "      <td>1633</td>\n",
       "      <td>6440</td>\n",
       "      <td>1900</td>\n",
       "      <td>2</td>\n",
       "      <td>C2</td>\n",
       "      <td>6625000</td>\n",
       "      <td>2017-07-19 00:00:00</td>\n",
       "    </tr>\n",
       "    <tr>\n",
       "      <th>1</th>\n",
       "      <td>5</td>\n",
       "      <td>1</td>\n",
       "      <td>ALPHABET CITY</td>\n",
       "      <td>07 RENTALS - WALKUP APARTMENTS</td>\n",
       "      <td>2</td>\n",
       "      <td>399</td>\n",
       "      <td>26</td>\n",
       "      <td></td>\n",
       "      <td>C7</td>\n",
       "      <td>234 EAST 4TH   STREET</td>\n",
       "      <td>...</td>\n",
       "      <td>28</td>\n",
       "      <td>3</td>\n",
       "      <td>31</td>\n",
       "      <td>4616</td>\n",
       "      <td>18690</td>\n",
       "      <td>1900</td>\n",
       "      <td>2</td>\n",
       "      <td>C7</td>\n",
       "      <td>-</td>\n",
       "      <td>2016-12-14 00:00:00</td>\n",
       "    </tr>\n",
       "    <tr>\n",
       "      <th>2</th>\n",
       "      <td>6</td>\n",
       "      <td>1</td>\n",
       "      <td>ALPHABET CITY</td>\n",
       "      <td>07 RENTALS - WALKUP APARTMENTS</td>\n",
       "      <td>2</td>\n",
       "      <td>399</td>\n",
       "      <td>39</td>\n",
       "      <td></td>\n",
       "      <td>C7</td>\n",
       "      <td>197 EAST 3RD   STREET</td>\n",
       "      <td>...</td>\n",
       "      <td>16</td>\n",
       "      <td>1</td>\n",
       "      <td>17</td>\n",
       "      <td>2212</td>\n",
       "      <td>7803</td>\n",
       "      <td>1900</td>\n",
       "      <td>2</td>\n",
       "      <td>C7</td>\n",
       "      <td>-</td>\n",
       "      <td>2016-12-09 00:00:00</td>\n",
       "    </tr>\n",
       "    <tr>\n",
       "      <th>3</th>\n",
       "      <td>7</td>\n",
       "      <td>1</td>\n",
       "      <td>ALPHABET CITY</td>\n",
       "      <td>07 RENTALS - WALKUP APARTMENTS</td>\n",
       "      <td>2B</td>\n",
       "      <td>402</td>\n",
       "      <td>21</td>\n",
       "      <td></td>\n",
       "      <td>C4</td>\n",
       "      <td>154 EAST 7TH STREET</td>\n",
       "      <td>...</td>\n",
       "      <td>10</td>\n",
       "      <td>0</td>\n",
       "      <td>10</td>\n",
       "      <td>2272</td>\n",
       "      <td>6794</td>\n",
       "      <td>1913</td>\n",
       "      <td>2</td>\n",
       "      <td>C4</td>\n",
       "      <td>3936272</td>\n",
       "      <td>2016-09-23 00:00:00</td>\n",
       "    </tr>\n",
       "    <tr>\n",
       "      <th>4</th>\n",
       "      <td>8</td>\n",
       "      <td>1</td>\n",
       "      <td>ALPHABET CITY</td>\n",
       "      <td>07 RENTALS - WALKUP APARTMENTS</td>\n",
       "      <td>2A</td>\n",
       "      <td>404</td>\n",
       "      <td>55</td>\n",
       "      <td></td>\n",
       "      <td>C2</td>\n",
       "      <td>301 EAST 10TH   STREET</td>\n",
       "      <td>...</td>\n",
       "      <td>6</td>\n",
       "      <td>0</td>\n",
       "      <td>6</td>\n",
       "      <td>2369</td>\n",
       "      <td>4615</td>\n",
       "      <td>1900</td>\n",
       "      <td>2</td>\n",
       "      <td>C2</td>\n",
       "      <td>8000000</td>\n",
       "      <td>2016-11-17 00:00:00</td>\n",
       "    </tr>\n",
       "    <tr>\n",
       "      <th>...</th>\n",
       "      <td>...</td>\n",
       "      <td>...</td>\n",
       "      <td>...</td>\n",
       "      <td>...</td>\n",
       "      <td>...</td>\n",
       "      <td>...</td>\n",
       "      <td>...</td>\n",
       "      <td>...</td>\n",
       "      <td>...</td>\n",
       "      <td>...</td>\n",
       "      <td>...</td>\n",
       "      <td>...</td>\n",
       "      <td>...</td>\n",
       "      <td>...</td>\n",
       "      <td>...</td>\n",
       "      <td>...</td>\n",
       "      <td>...</td>\n",
       "      <td>...</td>\n",
       "      <td>...</td>\n",
       "      <td>...</td>\n",
       "      <td>...</td>\n",
       "    </tr>\n",
       "    <tr>\n",
       "      <th>84543</th>\n",
       "      <td>8409</td>\n",
       "      <td>5</td>\n",
       "      <td>WOODROW</td>\n",
       "      <td>02 TWO FAMILY DWELLINGS</td>\n",
       "      <td>1</td>\n",
       "      <td>7349</td>\n",
       "      <td>34</td>\n",
       "      <td></td>\n",
       "      <td>B9</td>\n",
       "      <td>37 QUAIL LANE</td>\n",
       "      <td>...</td>\n",
       "      <td>2</td>\n",
       "      <td>0</td>\n",
       "      <td>2</td>\n",
       "      <td>2400</td>\n",
       "      <td>2575</td>\n",
       "      <td>1998</td>\n",
       "      <td>1</td>\n",
       "      <td>B9</td>\n",
       "      <td>450000</td>\n",
       "      <td>2016-11-28 00:00:00</td>\n",
       "    </tr>\n",
       "    <tr>\n",
       "      <th>84544</th>\n",
       "      <td>8410</td>\n",
       "      <td>5</td>\n",
       "      <td>WOODROW</td>\n",
       "      <td>02 TWO FAMILY DWELLINGS</td>\n",
       "      <td>1</td>\n",
       "      <td>7349</td>\n",
       "      <td>78</td>\n",
       "      <td></td>\n",
       "      <td>B9</td>\n",
       "      <td>32 PHEASANT LANE</td>\n",
       "      <td>...</td>\n",
       "      <td>2</td>\n",
       "      <td>0</td>\n",
       "      <td>2</td>\n",
       "      <td>2498</td>\n",
       "      <td>2377</td>\n",
       "      <td>1998</td>\n",
       "      <td>1</td>\n",
       "      <td>B9</td>\n",
       "      <td>550000</td>\n",
       "      <td>2017-04-21 00:00:00</td>\n",
       "    </tr>\n",
       "    <tr>\n",
       "      <th>84545</th>\n",
       "      <td>8411</td>\n",
       "      <td>5</td>\n",
       "      <td>WOODROW</td>\n",
       "      <td>02 TWO FAMILY DWELLINGS</td>\n",
       "      <td>1</td>\n",
       "      <td>7351</td>\n",
       "      <td>60</td>\n",
       "      <td></td>\n",
       "      <td>B2</td>\n",
       "      <td>49 PITNEY AVENUE</td>\n",
       "      <td>...</td>\n",
       "      <td>2</td>\n",
       "      <td>0</td>\n",
       "      <td>2</td>\n",
       "      <td>4000</td>\n",
       "      <td>1496</td>\n",
       "      <td>1925</td>\n",
       "      <td>1</td>\n",
       "      <td>B2</td>\n",
       "      <td>460000</td>\n",
       "      <td>2017-07-05 00:00:00</td>\n",
       "    </tr>\n",
       "    <tr>\n",
       "      <th>84546</th>\n",
       "      <td>8412</td>\n",
       "      <td>5</td>\n",
       "      <td>WOODROW</td>\n",
       "      <td>22 STORE BUILDINGS</td>\n",
       "      <td>4</td>\n",
       "      <td>7100</td>\n",
       "      <td>28</td>\n",
       "      <td></td>\n",
       "      <td>K6</td>\n",
       "      <td>2730 ARTHUR KILL ROAD</td>\n",
       "      <td>...</td>\n",
       "      <td>0</td>\n",
       "      <td>7</td>\n",
       "      <td>7</td>\n",
       "      <td>208033</td>\n",
       "      <td>64117</td>\n",
       "      <td>2001</td>\n",
       "      <td>4</td>\n",
       "      <td>K6</td>\n",
       "      <td>11693337</td>\n",
       "      <td>2016-12-21 00:00:00</td>\n",
       "    </tr>\n",
       "    <tr>\n",
       "      <th>84547</th>\n",
       "      <td>8413</td>\n",
       "      <td>5</td>\n",
       "      <td>WOODROW</td>\n",
       "      <td>35 INDOOR PUBLIC AND CULTURAL FACILITIES</td>\n",
       "      <td>4</td>\n",
       "      <td>7105</td>\n",
       "      <td>679</td>\n",
       "      <td></td>\n",
       "      <td>P9</td>\n",
       "      <td>155 CLAY PIT ROAD</td>\n",
       "      <td>...</td>\n",
       "      <td>0</td>\n",
       "      <td>1</td>\n",
       "      <td>1</td>\n",
       "      <td>10796</td>\n",
       "      <td>2400</td>\n",
       "      <td>2006</td>\n",
       "      <td>4</td>\n",
       "      <td>P9</td>\n",
       "      <td>69300</td>\n",
       "      <td>2016-10-27 00:00:00</td>\n",
       "    </tr>\n",
       "  </tbody>\n",
       "</table>\n",
       "<p>84548 rows × 22 columns</p>\n",
       "</div>"
      ],
      "text/plain": [
       "       Unnamed: 0  BOROUGH   NEIGHBORHOOD  \\\n",
       "0               4        1  ALPHABET CITY   \n",
       "1               5        1  ALPHABET CITY   \n",
       "2               6        1  ALPHABET CITY   \n",
       "3               7        1  ALPHABET CITY   \n",
       "4               8        1  ALPHABET CITY   \n",
       "...           ...      ...            ...   \n",
       "84543        8409        5        WOODROW   \n",
       "84544        8410        5        WOODROW   \n",
       "84545        8411        5        WOODROW   \n",
       "84546        8412        5        WOODROW   \n",
       "84547        8413        5        WOODROW   \n",
       "\n",
       "                           BUILDING CLASS CATEGORY TAX CLASS AT PRESENT  \\\n",
       "0      07 RENTALS - WALKUP APARTMENTS                                2A   \n",
       "1      07 RENTALS - WALKUP APARTMENTS                                 2   \n",
       "2      07 RENTALS - WALKUP APARTMENTS                                 2   \n",
       "3      07 RENTALS - WALKUP APARTMENTS                                2B   \n",
       "4      07 RENTALS - WALKUP APARTMENTS                                2A   \n",
       "...                                            ...                  ...   \n",
       "84543  02 TWO FAMILY DWELLINGS                                        1   \n",
       "84544  02 TWO FAMILY DWELLINGS                                        1   \n",
       "84545  02 TWO FAMILY DWELLINGS                                        1   \n",
       "84546  22 STORE BUILDINGS                                             4   \n",
       "84547  35 INDOOR PUBLIC AND CULTURAL FACILITIES                       4   \n",
       "\n",
       "       BLOCK  LOT EASE-MENT BUILDING CLASS AT PRESENT                 ADDRESS  \\\n",
       "0        392    6                                  C2            153 AVENUE B   \n",
       "1        399   26                                  C7   234 EAST 4TH   STREET   \n",
       "2        399   39                                  C7   197 EAST 3RD   STREET   \n",
       "3        402   21                                  C4     154 EAST 7TH STREET   \n",
       "4        404   55                                  C2  301 EAST 10TH   STREET   \n",
       "...      ...  ...       ...                       ...                     ...   \n",
       "84543   7349   34                                  B9           37 QUAIL LANE   \n",
       "84544   7349   78                                  B9        32 PHEASANT LANE   \n",
       "84545   7351   60                                  B2        49 PITNEY AVENUE   \n",
       "84546   7100   28                                  K6   2730 ARTHUR KILL ROAD   \n",
       "84547   7105  679                                  P9       155 CLAY PIT ROAD   \n",
       "\n",
       "       ... RESIDENTIAL UNITS  COMMERCIAL UNITS  TOTAL UNITS  LAND SQUARE FEET  \\\n",
       "0      ...                 5                 0            5              1633   \n",
       "1      ...                28                 3           31              4616   \n",
       "2      ...                16                 1           17              2212   \n",
       "3      ...                10                 0           10              2272   \n",
       "4      ...                 6                 0            6              2369   \n",
       "...    ...               ...               ...          ...               ...   \n",
       "84543  ...                 2                 0            2              2400   \n",
       "84544  ...                 2                 0            2              2498   \n",
       "84545  ...                 2                 0            2              4000   \n",
       "84546  ...                 0                 7            7            208033   \n",
       "84547  ...                 0                 1            1             10796   \n",
       "\n",
       "       GROSS SQUARE FEET YEAR BUILT TAX CLASS AT TIME OF SALE  \\\n",
       "0                   6440       1900                         2   \n",
       "1                  18690       1900                         2   \n",
       "2                   7803       1900                         2   \n",
       "3                   6794       1913                         2   \n",
       "4                   4615       1900                         2   \n",
       "...                  ...        ...                       ...   \n",
       "84543               2575       1998                         1   \n",
       "84544               2377       1998                         1   \n",
       "84545               1496       1925                         1   \n",
       "84546              64117       2001                         4   \n",
       "84547               2400       2006                         4   \n",
       "\n",
       "       BUILDING CLASS AT TIME OF SALE  SALE PRICE            SALE DATE  \n",
       "0                                  C2     6625000  2017-07-19 00:00:00  \n",
       "1                                  C7         -    2016-12-14 00:00:00  \n",
       "2                                  C7         -    2016-12-09 00:00:00  \n",
       "3                                  C4     3936272  2016-09-23 00:00:00  \n",
       "4                                  C2     8000000  2016-11-17 00:00:00  \n",
       "...                               ...         ...                  ...  \n",
       "84543                              B9      450000  2016-11-28 00:00:00  \n",
       "84544                              B9      550000  2017-04-21 00:00:00  \n",
       "84545                              B2      460000  2017-07-05 00:00:00  \n",
       "84546                              K6    11693337  2016-12-21 00:00:00  \n",
       "84547                              P9       69300  2016-10-27 00:00:00  \n",
       "\n",
       "[84548 rows x 22 columns]"
      ]
     },
     "execution_count": 204,
     "metadata": {},
     "output_type": "execute_result"
    }
   ],
   "source": [
    "#menampilkan baris teratas dalam dataset\n",
    "df"
   ]
  },
  {
   "cell_type": "code",
   "execution_count": 205,
   "id": "77dc2774",
   "metadata": {},
   "outputs": [
    {
     "data": {
      "text/plain": [
       "0         \n",
       "1         \n",
       "2         \n",
       "3         \n",
       "4         \n",
       "        ..\n",
       "84543     \n",
       "84544     \n",
       "84545     \n",
       "84546     \n",
       "84547     \n",
       "Name: EASE-MENT, Length: 84548, dtype: object"
      ]
     },
     "execution_count": 205,
     "metadata": {},
     "output_type": "execute_result"
    }
   ],
   "source": [
    "#melihat isi kolom 'EASE-MENT'\n",
    "df['EASE-MENT']"
   ]
  },
  {
   "cell_type": "code",
   "execution_count": 206,
   "id": "a69056f8",
   "metadata": {},
   "outputs": [
    {
     "data": {
      "text/plain": [
       "Index(['Unnamed: 0', 'BOROUGH', 'NEIGHBORHOOD', 'BUILDING CLASS CATEGORY',\n",
       "       'TAX CLASS AT PRESENT', 'BLOCK', 'LOT', 'EASE-MENT',\n",
       "       'BUILDING CLASS AT PRESENT', 'ADDRESS', 'APARTMENT NUMBER', 'ZIP CODE',\n",
       "       'RESIDENTIAL UNITS', 'COMMERCIAL UNITS', 'TOTAL UNITS',\n",
       "       'LAND SQUARE FEET', 'GROSS SQUARE FEET', 'YEAR BUILT',\n",
       "       'TAX CLASS AT TIME OF SALE', 'BUILDING CLASS AT TIME OF SALE',\n",
       "       'SALE PRICE', 'SALE DATE'],\n",
       "      dtype='object')"
      ]
     },
     "execution_count": 206,
     "metadata": {},
     "output_type": "execute_result"
    }
   ],
   "source": [
    "df.columns.unique()"
   ]
  },
  {
   "cell_type": "code",
   "execution_count": 207,
   "id": "cba2a6ec",
   "metadata": {},
   "outputs": [
    {
     "data": {
      "text/plain": [
       "0         \n",
       "1         \n",
       "2         \n",
       "3         \n",
       "4         \n",
       "        ..\n",
       "84543     \n",
       "84544     \n",
       "84545     \n",
       "84546     \n",
       "84547     \n",
       "Name: APARTMENT NUMBER, Length: 84548, dtype: object"
      ]
     },
     "execution_count": 207,
     "metadata": {},
     "output_type": "execute_result"
    }
   ],
   "source": [
    "#melihat isi kolom 'APARTMENT NUMBER'\n",
    "df['APARTMENT NUMBER']"
   ]
  },
  {
   "cell_type": "code",
   "execution_count": 208,
   "id": "4feeb3c9",
   "metadata": {},
   "outputs": [
    {
     "data": {
      "text/plain": [
       "array([   0,    3,    1,    2,    4,   13,    5,   24,    6,   19,   10,\n",
       "         15,   14,    8,    7,   35,   42,   55,   17,   38,   12,   27,\n",
       "        422,    9,   23,   52,  318,   20,   67,   11,  254,   26,   49,\n",
       "         30,   91,   59,   62,   31,   73,   56,   34,   32,   18,   22,\n",
       "         28,  147,  184,   25,  172,  436,   16, 2261,   51,   21,  126],\n",
       "      dtype=int64)"
      ]
     },
     "execution_count": 208,
     "metadata": {},
     "output_type": "execute_result"
    }
   ],
   "source": [
    "#melihat isi kolom 'COMMERCIAL UNITS'\n",
    "df['COMMERCIAL UNITS'].unique()"
   ]
  },
  {
   "cell_type": "code",
   "execution_count": 209,
   "id": "c4859260",
   "metadata": {},
   "outputs": [],
   "source": [
    "#menggunakan np.nan untuk mengidentifikasi missing value menjadi nan\n",
    "df['COMMERCIAL UNITS'] = df['COMMERCIAL UNITS'].replace(0, np.nan)"
   ]
  },
  {
   "cell_type": "code",
   "execution_count": 210,
   "id": "b80fbce4",
   "metadata": {},
   "outputs": [
    {
     "data": {
      "text/plain": [
       "79429"
      ]
     },
     "execution_count": 210,
     "metadata": {},
     "output_type": "execute_result"
    }
   ],
   "source": [
    "#menghitung missing value dalam kolom 'COMMERCIAL UNITS'\n",
    "df['COMMERCIAL UNITS'].isnull().sum()\n",
    "\n",
    "#menandai kolom untuk di drop"
   ]
  },
  {
   "cell_type": "code",
   "execution_count": 211,
   "id": "7117881a",
   "metadata": {},
   "outputs": [],
   "source": [
    "#melakukan drop kolom 'EASE-MENT' dan 'APARTMENT NUMBER' karena inputannya kosong dan 'COMMERCIAL UNITS' karena missing value mendominasi\n",
    "df_nyc = df.drop(columns=['EASE-MENT','APARTMENT NUMBER', 'COMMERCIAL UNITS'])\n",
    "\n",
    "#memperbarui dataset tanpa mengubah dataset aslinya\n",
    "df_nyc.to_csv('nyc-rolling-sales-updated.csv', index=False)"
   ]
  },
  {
   "cell_type": "code",
   "execution_count": 212,
   "id": "4dacdf3f",
   "metadata": {},
   "outputs": [
    {
     "data": {
      "text/html": [
       "<div>\n",
       "<style scoped>\n",
       "    .dataframe tbody tr th:only-of-type {\n",
       "        vertical-align: middle;\n",
       "    }\n",
       "\n",
       "    .dataframe tbody tr th {\n",
       "        vertical-align: top;\n",
       "    }\n",
       "\n",
       "    .dataframe thead th {\n",
       "        text-align: right;\n",
       "    }\n",
       "</style>\n",
       "<table border=\"1\" class=\"dataframe\">\n",
       "  <thead>\n",
       "    <tr style=\"text-align: right;\">\n",
       "      <th></th>\n",
       "      <th>Unnamed: 0</th>\n",
       "      <th>BOROUGH</th>\n",
       "      <th>NEIGHBORHOOD</th>\n",
       "      <th>BUILDING CLASS CATEGORY</th>\n",
       "      <th>TAX CLASS AT PRESENT</th>\n",
       "      <th>BLOCK</th>\n",
       "      <th>LOT</th>\n",
       "      <th>BUILDING CLASS AT PRESENT</th>\n",
       "      <th>ADDRESS</th>\n",
       "      <th>ZIP CODE</th>\n",
       "      <th>RESIDENTIAL UNITS</th>\n",
       "      <th>TOTAL UNITS</th>\n",
       "      <th>LAND SQUARE FEET</th>\n",
       "      <th>GROSS SQUARE FEET</th>\n",
       "      <th>YEAR BUILT</th>\n",
       "      <th>TAX CLASS AT TIME OF SALE</th>\n",
       "      <th>BUILDING CLASS AT TIME OF SALE</th>\n",
       "      <th>SALE PRICE</th>\n",
       "      <th>SALE DATE</th>\n",
       "    </tr>\n",
       "  </thead>\n",
       "  <tbody>\n",
       "    <tr>\n",
       "      <th>0</th>\n",
       "      <td>4</td>\n",
       "      <td>1</td>\n",
       "      <td>ALPHABET CITY</td>\n",
       "      <td>07 RENTALS - WALKUP APARTMENTS</td>\n",
       "      <td>2A</td>\n",
       "      <td>392</td>\n",
       "      <td>6</td>\n",
       "      <td>C2</td>\n",
       "      <td>153 AVENUE B</td>\n",
       "      <td>10009</td>\n",
       "      <td>5</td>\n",
       "      <td>5</td>\n",
       "      <td>1633</td>\n",
       "      <td>6440</td>\n",
       "      <td>1900</td>\n",
       "      <td>2</td>\n",
       "      <td>C2</td>\n",
       "      <td>6625000</td>\n",
       "      <td>2017-07-19 00:00:00</td>\n",
       "    </tr>\n",
       "    <tr>\n",
       "      <th>1</th>\n",
       "      <td>5</td>\n",
       "      <td>1</td>\n",
       "      <td>ALPHABET CITY</td>\n",
       "      <td>07 RENTALS - WALKUP APARTMENTS</td>\n",
       "      <td>2</td>\n",
       "      <td>399</td>\n",
       "      <td>26</td>\n",
       "      <td>C7</td>\n",
       "      <td>234 EAST 4TH   STREET</td>\n",
       "      <td>10009</td>\n",
       "      <td>28</td>\n",
       "      <td>31</td>\n",
       "      <td>4616</td>\n",
       "      <td>18690</td>\n",
       "      <td>1900</td>\n",
       "      <td>2</td>\n",
       "      <td>C7</td>\n",
       "      <td>-</td>\n",
       "      <td>2016-12-14 00:00:00</td>\n",
       "    </tr>\n",
       "    <tr>\n",
       "      <th>2</th>\n",
       "      <td>6</td>\n",
       "      <td>1</td>\n",
       "      <td>ALPHABET CITY</td>\n",
       "      <td>07 RENTALS - WALKUP APARTMENTS</td>\n",
       "      <td>2</td>\n",
       "      <td>399</td>\n",
       "      <td>39</td>\n",
       "      <td>C7</td>\n",
       "      <td>197 EAST 3RD   STREET</td>\n",
       "      <td>10009</td>\n",
       "      <td>16</td>\n",
       "      <td>17</td>\n",
       "      <td>2212</td>\n",
       "      <td>7803</td>\n",
       "      <td>1900</td>\n",
       "      <td>2</td>\n",
       "      <td>C7</td>\n",
       "      <td>-</td>\n",
       "      <td>2016-12-09 00:00:00</td>\n",
       "    </tr>\n",
       "    <tr>\n",
       "      <th>3</th>\n",
       "      <td>7</td>\n",
       "      <td>1</td>\n",
       "      <td>ALPHABET CITY</td>\n",
       "      <td>07 RENTALS - WALKUP APARTMENTS</td>\n",
       "      <td>2B</td>\n",
       "      <td>402</td>\n",
       "      <td>21</td>\n",
       "      <td>C4</td>\n",
       "      <td>154 EAST 7TH STREET</td>\n",
       "      <td>10009</td>\n",
       "      <td>10</td>\n",
       "      <td>10</td>\n",
       "      <td>2272</td>\n",
       "      <td>6794</td>\n",
       "      <td>1913</td>\n",
       "      <td>2</td>\n",
       "      <td>C4</td>\n",
       "      <td>3936272</td>\n",
       "      <td>2016-09-23 00:00:00</td>\n",
       "    </tr>\n",
       "    <tr>\n",
       "      <th>4</th>\n",
       "      <td>8</td>\n",
       "      <td>1</td>\n",
       "      <td>ALPHABET CITY</td>\n",
       "      <td>07 RENTALS - WALKUP APARTMENTS</td>\n",
       "      <td>2A</td>\n",
       "      <td>404</td>\n",
       "      <td>55</td>\n",
       "      <td>C2</td>\n",
       "      <td>301 EAST 10TH   STREET</td>\n",
       "      <td>10009</td>\n",
       "      <td>6</td>\n",
       "      <td>6</td>\n",
       "      <td>2369</td>\n",
       "      <td>4615</td>\n",
       "      <td>1900</td>\n",
       "      <td>2</td>\n",
       "      <td>C2</td>\n",
       "      <td>8000000</td>\n",
       "      <td>2016-11-17 00:00:00</td>\n",
       "    </tr>\n",
       "    <tr>\n",
       "      <th>...</th>\n",
       "      <td>...</td>\n",
       "      <td>...</td>\n",
       "      <td>...</td>\n",
       "      <td>...</td>\n",
       "      <td>...</td>\n",
       "      <td>...</td>\n",
       "      <td>...</td>\n",
       "      <td>...</td>\n",
       "      <td>...</td>\n",
       "      <td>...</td>\n",
       "      <td>...</td>\n",
       "      <td>...</td>\n",
       "      <td>...</td>\n",
       "      <td>...</td>\n",
       "      <td>...</td>\n",
       "      <td>...</td>\n",
       "      <td>...</td>\n",
       "      <td>...</td>\n",
       "      <td>...</td>\n",
       "    </tr>\n",
       "    <tr>\n",
       "      <th>84543</th>\n",
       "      <td>8409</td>\n",
       "      <td>5</td>\n",
       "      <td>WOODROW</td>\n",
       "      <td>02 TWO FAMILY DWELLINGS</td>\n",
       "      <td>1</td>\n",
       "      <td>7349</td>\n",
       "      <td>34</td>\n",
       "      <td>B9</td>\n",
       "      <td>37 QUAIL LANE</td>\n",
       "      <td>10309</td>\n",
       "      <td>2</td>\n",
       "      <td>2</td>\n",
       "      <td>2400</td>\n",
       "      <td>2575</td>\n",
       "      <td>1998</td>\n",
       "      <td>1</td>\n",
       "      <td>B9</td>\n",
       "      <td>450000</td>\n",
       "      <td>2016-11-28 00:00:00</td>\n",
       "    </tr>\n",
       "    <tr>\n",
       "      <th>84544</th>\n",
       "      <td>8410</td>\n",
       "      <td>5</td>\n",
       "      <td>WOODROW</td>\n",
       "      <td>02 TWO FAMILY DWELLINGS</td>\n",
       "      <td>1</td>\n",
       "      <td>7349</td>\n",
       "      <td>78</td>\n",
       "      <td>B9</td>\n",
       "      <td>32 PHEASANT LANE</td>\n",
       "      <td>10309</td>\n",
       "      <td>2</td>\n",
       "      <td>2</td>\n",
       "      <td>2498</td>\n",
       "      <td>2377</td>\n",
       "      <td>1998</td>\n",
       "      <td>1</td>\n",
       "      <td>B9</td>\n",
       "      <td>550000</td>\n",
       "      <td>2017-04-21 00:00:00</td>\n",
       "    </tr>\n",
       "    <tr>\n",
       "      <th>84545</th>\n",
       "      <td>8411</td>\n",
       "      <td>5</td>\n",
       "      <td>WOODROW</td>\n",
       "      <td>02 TWO FAMILY DWELLINGS</td>\n",
       "      <td>1</td>\n",
       "      <td>7351</td>\n",
       "      <td>60</td>\n",
       "      <td>B2</td>\n",
       "      <td>49 PITNEY AVENUE</td>\n",
       "      <td>10309</td>\n",
       "      <td>2</td>\n",
       "      <td>2</td>\n",
       "      <td>4000</td>\n",
       "      <td>1496</td>\n",
       "      <td>1925</td>\n",
       "      <td>1</td>\n",
       "      <td>B2</td>\n",
       "      <td>460000</td>\n",
       "      <td>2017-07-05 00:00:00</td>\n",
       "    </tr>\n",
       "    <tr>\n",
       "      <th>84546</th>\n",
       "      <td>8412</td>\n",
       "      <td>5</td>\n",
       "      <td>WOODROW</td>\n",
       "      <td>22 STORE BUILDINGS</td>\n",
       "      <td>4</td>\n",
       "      <td>7100</td>\n",
       "      <td>28</td>\n",
       "      <td>K6</td>\n",
       "      <td>2730 ARTHUR KILL ROAD</td>\n",
       "      <td>10309</td>\n",
       "      <td>0</td>\n",
       "      <td>7</td>\n",
       "      <td>208033</td>\n",
       "      <td>64117</td>\n",
       "      <td>2001</td>\n",
       "      <td>4</td>\n",
       "      <td>K6</td>\n",
       "      <td>11693337</td>\n",
       "      <td>2016-12-21 00:00:00</td>\n",
       "    </tr>\n",
       "    <tr>\n",
       "      <th>84547</th>\n",
       "      <td>8413</td>\n",
       "      <td>5</td>\n",
       "      <td>WOODROW</td>\n",
       "      <td>35 INDOOR PUBLIC AND CULTURAL FACILITIES</td>\n",
       "      <td>4</td>\n",
       "      <td>7105</td>\n",
       "      <td>679</td>\n",
       "      <td>P9</td>\n",
       "      <td>155 CLAY PIT ROAD</td>\n",
       "      <td>10309</td>\n",
       "      <td>0</td>\n",
       "      <td>1</td>\n",
       "      <td>10796</td>\n",
       "      <td>2400</td>\n",
       "      <td>2006</td>\n",
       "      <td>4</td>\n",
       "      <td>P9</td>\n",
       "      <td>69300</td>\n",
       "      <td>2016-10-27 00:00:00</td>\n",
       "    </tr>\n",
       "  </tbody>\n",
       "</table>\n",
       "<p>84548 rows × 19 columns</p>\n",
       "</div>"
      ],
      "text/plain": [
       "       Unnamed: 0  BOROUGH   NEIGHBORHOOD  \\\n",
       "0               4        1  ALPHABET CITY   \n",
       "1               5        1  ALPHABET CITY   \n",
       "2               6        1  ALPHABET CITY   \n",
       "3               7        1  ALPHABET CITY   \n",
       "4               8        1  ALPHABET CITY   \n",
       "...           ...      ...            ...   \n",
       "84543        8409        5        WOODROW   \n",
       "84544        8410        5        WOODROW   \n",
       "84545        8411        5        WOODROW   \n",
       "84546        8412        5        WOODROW   \n",
       "84547        8413        5        WOODROW   \n",
       "\n",
       "                           BUILDING CLASS CATEGORY TAX CLASS AT PRESENT  \\\n",
       "0      07 RENTALS - WALKUP APARTMENTS                                2A   \n",
       "1      07 RENTALS - WALKUP APARTMENTS                                 2   \n",
       "2      07 RENTALS - WALKUP APARTMENTS                                 2   \n",
       "3      07 RENTALS - WALKUP APARTMENTS                                2B   \n",
       "4      07 RENTALS - WALKUP APARTMENTS                                2A   \n",
       "...                                            ...                  ...   \n",
       "84543  02 TWO FAMILY DWELLINGS                                        1   \n",
       "84544  02 TWO FAMILY DWELLINGS                                        1   \n",
       "84545  02 TWO FAMILY DWELLINGS                                        1   \n",
       "84546  22 STORE BUILDINGS                                             4   \n",
       "84547  35 INDOOR PUBLIC AND CULTURAL FACILITIES                       4   \n",
       "\n",
       "       BLOCK  LOT BUILDING CLASS AT PRESENT                 ADDRESS  ZIP CODE  \\\n",
       "0        392    6                        C2            153 AVENUE B     10009   \n",
       "1        399   26                        C7   234 EAST 4TH   STREET     10009   \n",
       "2        399   39                        C7   197 EAST 3RD   STREET     10009   \n",
       "3        402   21                        C4     154 EAST 7TH STREET     10009   \n",
       "4        404   55                        C2  301 EAST 10TH   STREET     10009   \n",
       "...      ...  ...                       ...                     ...       ...   \n",
       "84543   7349   34                        B9           37 QUAIL LANE     10309   \n",
       "84544   7349   78                        B9        32 PHEASANT LANE     10309   \n",
       "84545   7351   60                        B2        49 PITNEY AVENUE     10309   \n",
       "84546   7100   28                        K6   2730 ARTHUR KILL ROAD     10309   \n",
       "84547   7105  679                        P9       155 CLAY PIT ROAD     10309   \n",
       "\n",
       "       RESIDENTIAL UNITS  TOTAL UNITS LAND SQUARE FEET GROSS SQUARE FEET  \\\n",
       "0                      5            5             1633              6440   \n",
       "1                     28           31             4616             18690   \n",
       "2                     16           17             2212              7803   \n",
       "3                     10           10             2272              6794   \n",
       "4                      6            6             2369              4615   \n",
       "...                  ...          ...              ...               ...   \n",
       "84543                  2            2             2400              2575   \n",
       "84544                  2            2             2498              2377   \n",
       "84545                  2            2             4000              1496   \n",
       "84546                  0            7           208033             64117   \n",
       "84547                  0            1            10796              2400   \n",
       "\n",
       "       YEAR BUILT  TAX CLASS AT TIME OF SALE BUILDING CLASS AT TIME OF SALE  \\\n",
       "0            1900                          2                             C2   \n",
       "1            1900                          2                             C7   \n",
       "2            1900                          2                             C7   \n",
       "3            1913                          2                             C4   \n",
       "4            1900                          2                             C2   \n",
       "...           ...                        ...                            ...   \n",
       "84543        1998                          1                             B9   \n",
       "84544        1998                          1                             B9   \n",
       "84545        1925                          1                             B2   \n",
       "84546        2001                          4                             K6   \n",
       "84547        2006                          4                             P9   \n",
       "\n",
       "      SALE PRICE            SALE DATE  \n",
       "0        6625000  2017-07-19 00:00:00  \n",
       "1            -    2016-12-14 00:00:00  \n",
       "2            -    2016-12-09 00:00:00  \n",
       "3        3936272  2016-09-23 00:00:00  \n",
       "4        8000000  2016-11-17 00:00:00  \n",
       "...          ...                  ...  \n",
       "84543     450000  2016-11-28 00:00:00  \n",
       "84544     550000  2017-04-21 00:00:00  \n",
       "84545     460000  2017-07-05 00:00:00  \n",
       "84546   11693337  2016-12-21 00:00:00  \n",
       "84547      69300  2016-10-27 00:00:00  \n",
       "\n",
       "[84548 rows x 19 columns]"
      ]
     },
     "execution_count": 212,
     "metadata": {},
     "output_type": "execute_result"
    }
   ],
   "source": [
    "df_nyc"
   ]
  },
  {
   "cell_type": "code",
   "execution_count": 213,
   "id": "e7b47890",
   "metadata": {},
   "outputs": [
    {
     "data": {
      "text/html": [
       "<div>\n",
       "<style scoped>\n",
       "    .dataframe tbody tr th:only-of-type {\n",
       "        vertical-align: middle;\n",
       "    }\n",
       "\n",
       "    .dataframe tbody tr th {\n",
       "        vertical-align: top;\n",
       "    }\n",
       "\n",
       "    .dataframe thead th {\n",
       "        text-align: right;\n",
       "    }\n",
       "</style>\n",
       "<table border=\"1\" class=\"dataframe\">\n",
       "  <thead>\n",
       "    <tr style=\"text-align: right;\">\n",
       "      <th></th>\n",
       "      <th>Unnamed: 0</th>\n",
       "      <th>BOROUGH</th>\n",
       "      <th>NEIGHBORHOOD</th>\n",
       "      <th>BUILDING CLASS CATEGORY</th>\n",
       "      <th>TAX CLASS AT PRESENT</th>\n",
       "      <th>BLOCK</th>\n",
       "      <th>LOT</th>\n",
       "      <th>BUILDING CLASS AT PRESENT</th>\n",
       "      <th>ADDRESS</th>\n",
       "      <th>ZIP CODE</th>\n",
       "      <th>RESIDENTIAL UNITS</th>\n",
       "      <th>TOTAL UNITS</th>\n",
       "      <th>LAND SQUARE FEET</th>\n",
       "      <th>GROSS SQUARE FEET</th>\n",
       "      <th>YEAR BUILT</th>\n",
       "      <th>TAX CLASS AT TIME OF SALE</th>\n",
       "      <th>BUILDING CLASS AT TIME OF SALE</th>\n",
       "      <th>SALE PRICE</th>\n",
       "      <th>SALE DATE</th>\n",
       "    </tr>\n",
       "  </thead>\n",
       "  <tbody>\n",
       "  </tbody>\n",
       "</table>\n",
       "</div>"
      ],
      "text/plain": [
       "Empty DataFrame\n",
       "Columns: [Unnamed: 0, BOROUGH, NEIGHBORHOOD, BUILDING CLASS CATEGORY, TAX CLASS AT PRESENT, BLOCK, LOT, BUILDING CLASS AT PRESENT, ADDRESS, ZIP CODE, RESIDENTIAL UNITS, TOTAL UNITS, LAND SQUARE FEET, GROSS SQUARE FEET, YEAR BUILT, TAX CLASS AT TIME OF SALE, BUILDING CLASS AT TIME OF SALE, SALE PRICE, SALE DATE]\n",
       "Index: []"
      ]
     },
     "execution_count": 213,
     "metadata": {},
     "output_type": "execute_result"
    }
   ],
   "source": [
    "#menggambil seluruh kolom\n",
    "columns = df_nyc.columns.tolist()\n",
    "\n",
    "#menghapus data duplikat yang sama persis (jika ada)\n",
    "df_nyc = df_nyc.drop_duplicates(subset=columns)\n",
    "\n",
    "#mengecek hasil hapus data duplikat yang sama persis\n",
    "df_nyc[df_nyc.duplicated(keep=False)]"
   ]
  },
  {
   "cell_type": "code",
   "execution_count": 214,
   "id": "92b19361",
   "metadata": {},
   "outputs": [
    {
     "data": {
      "text/html": [
       "<div>\n",
       "<style scoped>\n",
       "    .dataframe tbody tr th:only-of-type {\n",
       "        vertical-align: middle;\n",
       "    }\n",
       "\n",
       "    .dataframe tbody tr th {\n",
       "        vertical-align: top;\n",
       "    }\n",
       "\n",
       "    .dataframe thead th {\n",
       "        text-align: right;\n",
       "    }\n",
       "</style>\n",
       "<table border=\"1\" class=\"dataframe\">\n",
       "  <thead>\n",
       "    <tr style=\"text-align: right;\">\n",
       "      <th></th>\n",
       "      <th>Unnamed: 0</th>\n",
       "      <th>BOROUGH</th>\n",
       "      <th>NEIGHBORHOOD</th>\n",
       "      <th>BUILDING CLASS CATEGORY</th>\n",
       "      <th>TAX CLASS AT PRESENT</th>\n",
       "      <th>BLOCK</th>\n",
       "      <th>LOT</th>\n",
       "      <th>BUILDING CLASS AT PRESENT</th>\n",
       "      <th>ADDRESS</th>\n",
       "      <th>ZIP CODE</th>\n",
       "      <th>RESIDENTIAL UNITS</th>\n",
       "      <th>TOTAL UNITS</th>\n",
       "      <th>LAND SQUARE FEET</th>\n",
       "      <th>GROSS SQUARE FEET</th>\n",
       "      <th>YEAR BUILT</th>\n",
       "      <th>TAX CLASS AT TIME OF SALE</th>\n",
       "      <th>BUILDING CLASS AT TIME OF SALE</th>\n",
       "      <th>SALE PRICE</th>\n",
       "      <th>SALE DATE</th>\n",
       "    </tr>\n",
       "  </thead>\n",
       "  <tbody>\n",
       "    <tr>\n",
       "      <th>0</th>\n",
       "      <td>4</td>\n",
       "      <td>1</td>\n",
       "      <td>ALPHABET CITY</td>\n",
       "      <td>07 RENTALS - WALKUP APARTMENTS</td>\n",
       "      <td>2A</td>\n",
       "      <td>392</td>\n",
       "      <td>6</td>\n",
       "      <td>C2</td>\n",
       "      <td>153 AVENUE B</td>\n",
       "      <td>10009</td>\n",
       "      <td>5</td>\n",
       "      <td>5</td>\n",
       "      <td>1633</td>\n",
       "      <td>6440</td>\n",
       "      <td>1900</td>\n",
       "      <td>2</td>\n",
       "      <td>C2</td>\n",
       "      <td>6625000</td>\n",
       "      <td>2017-07-19 00:00:00</td>\n",
       "    </tr>\n",
       "    <tr>\n",
       "      <th>1</th>\n",
       "      <td>5</td>\n",
       "      <td>1</td>\n",
       "      <td>ALPHABET CITY</td>\n",
       "      <td>07 RENTALS - WALKUP APARTMENTS</td>\n",
       "      <td>2</td>\n",
       "      <td>399</td>\n",
       "      <td>26</td>\n",
       "      <td>C7</td>\n",
       "      <td>234 EAST 4TH   STREET</td>\n",
       "      <td>10009</td>\n",
       "      <td>28</td>\n",
       "      <td>31</td>\n",
       "      <td>4616</td>\n",
       "      <td>18690</td>\n",
       "      <td>1900</td>\n",
       "      <td>2</td>\n",
       "      <td>C7</td>\n",
       "      <td>-</td>\n",
       "      <td>2016-12-14 00:00:00</td>\n",
       "    </tr>\n",
       "    <tr>\n",
       "      <th>2</th>\n",
       "      <td>6</td>\n",
       "      <td>1</td>\n",
       "      <td>ALPHABET CITY</td>\n",
       "      <td>07 RENTALS - WALKUP APARTMENTS</td>\n",
       "      <td>2</td>\n",
       "      <td>399</td>\n",
       "      <td>39</td>\n",
       "      <td>C7</td>\n",
       "      <td>197 EAST 3RD   STREET</td>\n",
       "      <td>10009</td>\n",
       "      <td>16</td>\n",
       "      <td>17</td>\n",
       "      <td>2212</td>\n",
       "      <td>7803</td>\n",
       "      <td>1900</td>\n",
       "      <td>2</td>\n",
       "      <td>C7</td>\n",
       "      <td>-</td>\n",
       "      <td>2016-12-09 00:00:00</td>\n",
       "    </tr>\n",
       "    <tr>\n",
       "      <th>3</th>\n",
       "      <td>7</td>\n",
       "      <td>1</td>\n",
       "      <td>ALPHABET CITY</td>\n",
       "      <td>07 RENTALS - WALKUP APARTMENTS</td>\n",
       "      <td>2B</td>\n",
       "      <td>402</td>\n",
       "      <td>21</td>\n",
       "      <td>C4</td>\n",
       "      <td>154 EAST 7TH STREET</td>\n",
       "      <td>10009</td>\n",
       "      <td>10</td>\n",
       "      <td>10</td>\n",
       "      <td>2272</td>\n",
       "      <td>6794</td>\n",
       "      <td>1913</td>\n",
       "      <td>2</td>\n",
       "      <td>C4</td>\n",
       "      <td>3936272</td>\n",
       "      <td>2016-09-23 00:00:00</td>\n",
       "    </tr>\n",
       "    <tr>\n",
       "      <th>4</th>\n",
       "      <td>8</td>\n",
       "      <td>1</td>\n",
       "      <td>ALPHABET CITY</td>\n",
       "      <td>07 RENTALS - WALKUP APARTMENTS</td>\n",
       "      <td>2A</td>\n",
       "      <td>404</td>\n",
       "      <td>55</td>\n",
       "      <td>C2</td>\n",
       "      <td>301 EAST 10TH   STREET</td>\n",
       "      <td>10009</td>\n",
       "      <td>6</td>\n",
       "      <td>6</td>\n",
       "      <td>2369</td>\n",
       "      <td>4615</td>\n",
       "      <td>1900</td>\n",
       "      <td>2</td>\n",
       "      <td>C2</td>\n",
       "      <td>8000000</td>\n",
       "      <td>2016-11-17 00:00:00</td>\n",
       "    </tr>\n",
       "    <tr>\n",
       "      <th>...</th>\n",
       "      <td>...</td>\n",
       "      <td>...</td>\n",
       "      <td>...</td>\n",
       "      <td>...</td>\n",
       "      <td>...</td>\n",
       "      <td>...</td>\n",
       "      <td>...</td>\n",
       "      <td>...</td>\n",
       "      <td>...</td>\n",
       "      <td>...</td>\n",
       "      <td>...</td>\n",
       "      <td>...</td>\n",
       "      <td>...</td>\n",
       "      <td>...</td>\n",
       "      <td>...</td>\n",
       "      <td>...</td>\n",
       "      <td>...</td>\n",
       "      <td>...</td>\n",
       "      <td>...</td>\n",
       "    </tr>\n",
       "    <tr>\n",
       "      <th>84543</th>\n",
       "      <td>8409</td>\n",
       "      <td>5</td>\n",
       "      <td>WOODROW</td>\n",
       "      <td>02 TWO FAMILY DWELLINGS</td>\n",
       "      <td>1</td>\n",
       "      <td>7349</td>\n",
       "      <td>34</td>\n",
       "      <td>B9</td>\n",
       "      <td>37 QUAIL LANE</td>\n",
       "      <td>10309</td>\n",
       "      <td>2</td>\n",
       "      <td>2</td>\n",
       "      <td>2400</td>\n",
       "      <td>2575</td>\n",
       "      <td>1998</td>\n",
       "      <td>1</td>\n",
       "      <td>B9</td>\n",
       "      <td>450000</td>\n",
       "      <td>2016-11-28 00:00:00</td>\n",
       "    </tr>\n",
       "    <tr>\n",
       "      <th>84544</th>\n",
       "      <td>8410</td>\n",
       "      <td>5</td>\n",
       "      <td>WOODROW</td>\n",
       "      <td>02 TWO FAMILY DWELLINGS</td>\n",
       "      <td>1</td>\n",
       "      <td>7349</td>\n",
       "      <td>78</td>\n",
       "      <td>B9</td>\n",
       "      <td>32 PHEASANT LANE</td>\n",
       "      <td>10309</td>\n",
       "      <td>2</td>\n",
       "      <td>2</td>\n",
       "      <td>2498</td>\n",
       "      <td>2377</td>\n",
       "      <td>1998</td>\n",
       "      <td>1</td>\n",
       "      <td>B9</td>\n",
       "      <td>550000</td>\n",
       "      <td>2017-04-21 00:00:00</td>\n",
       "    </tr>\n",
       "    <tr>\n",
       "      <th>84545</th>\n",
       "      <td>8411</td>\n",
       "      <td>5</td>\n",
       "      <td>WOODROW</td>\n",
       "      <td>02 TWO FAMILY DWELLINGS</td>\n",
       "      <td>1</td>\n",
       "      <td>7351</td>\n",
       "      <td>60</td>\n",
       "      <td>B2</td>\n",
       "      <td>49 PITNEY AVENUE</td>\n",
       "      <td>10309</td>\n",
       "      <td>2</td>\n",
       "      <td>2</td>\n",
       "      <td>4000</td>\n",
       "      <td>1496</td>\n",
       "      <td>1925</td>\n",
       "      <td>1</td>\n",
       "      <td>B2</td>\n",
       "      <td>460000</td>\n",
       "      <td>2017-07-05 00:00:00</td>\n",
       "    </tr>\n",
       "    <tr>\n",
       "      <th>84546</th>\n",
       "      <td>8412</td>\n",
       "      <td>5</td>\n",
       "      <td>WOODROW</td>\n",
       "      <td>22 STORE BUILDINGS</td>\n",
       "      <td>4</td>\n",
       "      <td>7100</td>\n",
       "      <td>28</td>\n",
       "      <td>K6</td>\n",
       "      <td>2730 ARTHUR KILL ROAD</td>\n",
       "      <td>10309</td>\n",
       "      <td>0</td>\n",
       "      <td>7</td>\n",
       "      <td>208033</td>\n",
       "      <td>64117</td>\n",
       "      <td>2001</td>\n",
       "      <td>4</td>\n",
       "      <td>K6</td>\n",
       "      <td>11693337</td>\n",
       "      <td>2016-12-21 00:00:00</td>\n",
       "    </tr>\n",
       "    <tr>\n",
       "      <th>84547</th>\n",
       "      <td>8413</td>\n",
       "      <td>5</td>\n",
       "      <td>WOODROW</td>\n",
       "      <td>35 INDOOR PUBLIC AND CULTURAL FACILITIES</td>\n",
       "      <td>4</td>\n",
       "      <td>7105</td>\n",
       "      <td>679</td>\n",
       "      <td>P9</td>\n",
       "      <td>155 CLAY PIT ROAD</td>\n",
       "      <td>10309</td>\n",
       "      <td>0</td>\n",
       "      <td>1</td>\n",
       "      <td>10796</td>\n",
       "      <td>2400</td>\n",
       "      <td>2006</td>\n",
       "      <td>4</td>\n",
       "      <td>P9</td>\n",
       "      <td>69300</td>\n",
       "      <td>2016-10-27 00:00:00</td>\n",
       "    </tr>\n",
       "  </tbody>\n",
       "</table>\n",
       "<p>84548 rows × 19 columns</p>\n",
       "</div>"
      ],
      "text/plain": [
       "       Unnamed: 0  BOROUGH   NEIGHBORHOOD  \\\n",
       "0               4        1  ALPHABET CITY   \n",
       "1               5        1  ALPHABET CITY   \n",
       "2               6        1  ALPHABET CITY   \n",
       "3               7        1  ALPHABET CITY   \n",
       "4               8        1  ALPHABET CITY   \n",
       "...           ...      ...            ...   \n",
       "84543        8409        5        WOODROW   \n",
       "84544        8410        5        WOODROW   \n",
       "84545        8411        5        WOODROW   \n",
       "84546        8412        5        WOODROW   \n",
       "84547        8413        5        WOODROW   \n",
       "\n",
       "                           BUILDING CLASS CATEGORY TAX CLASS AT PRESENT  \\\n",
       "0      07 RENTALS - WALKUP APARTMENTS                                2A   \n",
       "1      07 RENTALS - WALKUP APARTMENTS                                 2   \n",
       "2      07 RENTALS - WALKUP APARTMENTS                                 2   \n",
       "3      07 RENTALS - WALKUP APARTMENTS                                2B   \n",
       "4      07 RENTALS - WALKUP APARTMENTS                                2A   \n",
       "...                                            ...                  ...   \n",
       "84543  02 TWO FAMILY DWELLINGS                                        1   \n",
       "84544  02 TWO FAMILY DWELLINGS                                        1   \n",
       "84545  02 TWO FAMILY DWELLINGS                                        1   \n",
       "84546  22 STORE BUILDINGS                                             4   \n",
       "84547  35 INDOOR PUBLIC AND CULTURAL FACILITIES                       4   \n",
       "\n",
       "       BLOCK  LOT BUILDING CLASS AT PRESENT                 ADDRESS  ZIP CODE  \\\n",
       "0        392    6                        C2            153 AVENUE B     10009   \n",
       "1        399   26                        C7   234 EAST 4TH   STREET     10009   \n",
       "2        399   39                        C7   197 EAST 3RD   STREET     10009   \n",
       "3        402   21                        C4     154 EAST 7TH STREET     10009   \n",
       "4        404   55                        C2  301 EAST 10TH   STREET     10009   \n",
       "...      ...  ...                       ...                     ...       ...   \n",
       "84543   7349   34                        B9           37 QUAIL LANE     10309   \n",
       "84544   7349   78                        B9        32 PHEASANT LANE     10309   \n",
       "84545   7351   60                        B2        49 PITNEY AVENUE     10309   \n",
       "84546   7100   28                        K6   2730 ARTHUR KILL ROAD     10309   \n",
       "84547   7105  679                        P9       155 CLAY PIT ROAD     10309   \n",
       "\n",
       "       RESIDENTIAL UNITS  TOTAL UNITS LAND SQUARE FEET GROSS SQUARE FEET  \\\n",
       "0                      5            5             1633              6440   \n",
       "1                     28           31             4616             18690   \n",
       "2                     16           17             2212              7803   \n",
       "3                     10           10             2272              6794   \n",
       "4                      6            6             2369              4615   \n",
       "...                  ...          ...              ...               ...   \n",
       "84543                  2            2             2400              2575   \n",
       "84544                  2            2             2498              2377   \n",
       "84545                  2            2             4000              1496   \n",
       "84546                  0            7           208033             64117   \n",
       "84547                  0            1            10796              2400   \n",
       "\n",
       "       YEAR BUILT  TAX CLASS AT TIME OF SALE BUILDING CLASS AT TIME OF SALE  \\\n",
       "0            1900                          2                             C2   \n",
       "1            1900                          2                             C7   \n",
       "2            1900                          2                             C7   \n",
       "3            1913                          2                             C4   \n",
       "4            1900                          2                             C2   \n",
       "...           ...                        ...                            ...   \n",
       "84543        1998                          1                             B9   \n",
       "84544        1998                          1                             B9   \n",
       "84545        1925                          1                             B2   \n",
       "84546        2001                          4                             K6   \n",
       "84547        2006                          4                             P9   \n",
       "\n",
       "      SALE PRICE            SALE DATE  \n",
       "0        6625000  2017-07-19 00:00:00  \n",
       "1            -    2016-12-14 00:00:00  \n",
       "2            -    2016-12-09 00:00:00  \n",
       "3        3936272  2016-09-23 00:00:00  \n",
       "4        8000000  2016-11-17 00:00:00  \n",
       "...          ...                  ...  \n",
       "84543     450000  2016-11-28 00:00:00  \n",
       "84544     550000  2017-04-21 00:00:00  \n",
       "84545     460000  2017-07-05 00:00:00  \n",
       "84546   11693337  2016-12-21 00:00:00  \n",
       "84547      69300  2016-10-27 00:00:00  \n",
       "\n",
       "[84548 rows x 19 columns]"
      ]
     },
     "execution_count": 214,
     "metadata": {},
     "output_type": "execute_result"
    }
   ],
   "source": [
    "df_nyc"
   ]
  },
  {
   "cell_type": "code",
   "execution_count": 215,
   "id": "d88cbb55",
   "metadata": {},
   "outputs": [
    {
     "name": "stdout",
     "output_type": "stream",
     "text": [
      "<class 'pandas.core.frame.DataFrame'>\n",
      "Int64Index: 84548 entries, 0 to 84547\n",
      "Data columns (total 19 columns):\n",
      " #   Column                          Non-Null Count  Dtype \n",
      "---  ------                          --------------  ----- \n",
      " 0   Unnamed: 0                      84548 non-null  int64 \n",
      " 1   BOROUGH                         84548 non-null  int64 \n",
      " 2   NEIGHBORHOOD                    84548 non-null  object\n",
      " 3   BUILDING CLASS CATEGORY         84548 non-null  object\n",
      " 4   TAX CLASS AT PRESENT            84548 non-null  object\n",
      " 5   BLOCK                           84548 non-null  int64 \n",
      " 6   LOT                             84548 non-null  int64 \n",
      " 7   BUILDING CLASS AT PRESENT       84548 non-null  object\n",
      " 8   ADDRESS                         84548 non-null  object\n",
      " 9   ZIP CODE                        84548 non-null  int64 \n",
      " 10  RESIDENTIAL UNITS               84548 non-null  int64 \n",
      " 11  TOTAL UNITS                     84548 non-null  int64 \n",
      " 12  LAND SQUARE FEET                84548 non-null  object\n",
      " 13  GROSS SQUARE FEET               84548 non-null  object\n",
      " 14  YEAR BUILT                      84548 non-null  int64 \n",
      " 15  TAX CLASS AT TIME OF SALE       84548 non-null  int64 \n",
      " 16  BUILDING CLASS AT TIME OF SALE  84548 non-null  object\n",
      " 17  SALE PRICE                      84548 non-null  object\n",
      " 18  SALE DATE                       84548 non-null  object\n",
      "dtypes: int64(9), object(10)\n",
      "memory usage: 12.9+ MB\n"
     ]
    }
   ],
   "source": [
    "#mengetahui dtype atau jenis data per kolom\n",
    "df_nyc.info()"
   ]
  },
  {
   "cell_type": "code",
   "execution_count": 216,
   "id": "78168ab1",
   "metadata": {},
   "outputs": [
    {
     "data": {
      "text/plain": [
       "0        1\n",
       "1        1\n",
       "2        1\n",
       "3        1\n",
       "4        1\n",
       "        ..\n",
       "84543    5\n",
       "84544    5\n",
       "84545    5\n",
       "84546    5\n",
       "84547    5\n",
       "Name: BOROUGH, Length: 84548, dtype: int64"
      ]
     },
     "execution_count": 216,
     "metadata": {},
     "output_type": "execute_result"
    }
   ],
   "source": [
    "#melihat isi kolom 'BOROUGH'\n",
    "df_nyc['BOROUGH']"
   ]
  },
  {
   "cell_type": "markdown",
   "id": "199eccee",
   "metadata": {},
   "source": [
    "Notes\n",
    "1. Manhattan\n",
    "2. Bronx\n",
    "3. Brooklyn\n",
    "4. Queens\n",
    "5. Staten Island"
   ]
  },
  {
   "cell_type": "code",
   "execution_count": 217,
   "id": "6eff9d07",
   "metadata": {},
   "outputs": [
    {
     "data": {
      "text/plain": [
       "42273    01 ONE FAMILY DWELLINGS                    \n",
       "19458    01 ONE FAMILY DWELLINGS                    \n",
       "19457    01 ONE FAMILY DWELLINGS                    \n",
       "19456    01 ONE FAMILY DWELLINGS                    \n",
       "19455    01 ONE FAMILY DWELLINGS                    \n",
       "                            ...                     \n",
       "48685    49 CONDO WAREHOUSES/FACTORY/INDUS          \n",
       "2585     49 CONDO WAREHOUSES/FACTORY/INDUS          \n",
       "48684    49 CONDO WAREHOUSES/FACTORY/INDUS          \n",
       "48682    49 CONDO WAREHOUSES/FACTORY/INDUS          \n",
       "10502    49 CONDO WAREHOUSES/FACTORY/INDUS          \n",
       "Name: BUILDING CLASS CATEGORY, Length: 84548, dtype: object"
      ]
     },
     "execution_count": 217,
     "metadata": {},
     "output_type": "execute_result"
    }
   ],
   "source": [
    "#menyortir kolom 'BUILDING CLASS CATEGORY' berdasarkan kode terkecil - terbesar\n",
    "BCC_sorted = df_nyc['BUILDING CLASS CATEGORY'].sort_values(ascending=True)\n",
    "\n",
    "BCC_sorted"
   ]
  },
  {
   "cell_type": "code",
   "execution_count": 218,
   "id": "e3ba1dbe",
   "metadata": {},
   "outputs": [
    {
     "data": {
      "text/plain": [
       "array(['2A', '2', '2B', '2C', ' ', '4', '1', '1C', '3', '1A', '1B'],\n",
       "      dtype=object)"
      ]
     },
     "execution_count": 218,
     "metadata": {},
     "output_type": "execute_result"
    }
   ],
   "source": [
    "#melihat isi kolom 'TAX CLASS AT PRESENT' dengan menjabarkan keseluruhan isinya menggunakan unique()\n",
    "df_nyc['TAX CLASS AT PRESENT'].unique()"
   ]
  },
  {
   "cell_type": "code",
   "execution_count": 219,
   "id": "1f6fa70d",
   "metadata": {},
   "outputs": [],
   "source": [
    "#menggunakan np.nan untuk mengidentifikasi missing value menjadi nan\n",
    "df_nyc['TAX CLASS AT PRESENT'] = df_nyc['TAX CLASS AT PRESENT'].replace(' ', np.nan)"
   ]
  },
  {
   "cell_type": "code",
   "execution_count": 220,
   "id": "083371e6",
   "metadata": {},
   "outputs": [
    {
     "data": {
      "text/plain": [
       "738"
      ]
     },
     "execution_count": 220,
     "metadata": {},
     "output_type": "execute_result"
    }
   ],
   "source": [
    "#menghitung missing value dalam kolom 'TAX CLASS AT PRESENT'\n",
    "df_nyc['TAX CLASS AT PRESENT'].isna().sum()"
   ]
  },
  {
   "cell_type": "code",
   "execution_count": 221,
   "id": "1d1b569a",
   "metadata": {},
   "outputs": [
    {
     "data": {
      "text/plain": [
       "0        2A\n",
       "1         2\n",
       "2         2\n",
       "3        2B\n",
       "4        2A\n",
       "         ..\n",
       "84543     1\n",
       "84544     1\n",
       "84545     1\n",
       "84546     4\n",
       "84547     4\n",
       "Name: TAX CLASS AT PRESENT, Length: 83810, dtype: object"
      ]
     },
     "execution_count": 221,
     "metadata": {},
     "output_type": "execute_result"
    }
   ],
   "source": [
    "#drop missing value (karena hanya 1% dari data keseluruhan)\n",
    "df_nyc['TAX CLASS AT PRESENT'].dropna()"
   ]
  },
  {
   "cell_type": "code",
   "execution_count": 222,
   "id": "7a2630f6",
   "metadata": {},
   "outputs": [
    {
     "data": {
      "text/html": [
       "<div>\n",
       "<style scoped>\n",
       "    .dataframe tbody tr th:only-of-type {\n",
       "        vertical-align: middle;\n",
       "    }\n",
       "\n",
       "    .dataframe tbody tr th {\n",
       "        vertical-align: top;\n",
       "    }\n",
       "\n",
       "    .dataframe thead th {\n",
       "        text-align: right;\n",
       "    }\n",
       "</style>\n",
       "<table border=\"1\" class=\"dataframe\">\n",
       "  <thead>\n",
       "    <tr style=\"text-align: right;\">\n",
       "      <th></th>\n",
       "      <th>BLOCK</th>\n",
       "      <th>LOT</th>\n",
       "    </tr>\n",
       "  </thead>\n",
       "  <tbody>\n",
       "    <tr>\n",
       "      <th>0</th>\n",
       "      <td>392</td>\n",
       "      <td>6</td>\n",
       "    </tr>\n",
       "    <tr>\n",
       "      <th>1</th>\n",
       "      <td>399</td>\n",
       "      <td>26</td>\n",
       "    </tr>\n",
       "    <tr>\n",
       "      <th>2</th>\n",
       "      <td>399</td>\n",
       "      <td>39</td>\n",
       "    </tr>\n",
       "    <tr>\n",
       "      <th>3</th>\n",
       "      <td>402</td>\n",
       "      <td>21</td>\n",
       "    </tr>\n",
       "    <tr>\n",
       "      <th>4</th>\n",
       "      <td>404</td>\n",
       "      <td>55</td>\n",
       "    </tr>\n",
       "    <tr>\n",
       "      <th>...</th>\n",
       "      <td>...</td>\n",
       "      <td>...</td>\n",
       "    </tr>\n",
       "    <tr>\n",
       "      <th>84543</th>\n",
       "      <td>7349</td>\n",
       "      <td>34</td>\n",
       "    </tr>\n",
       "    <tr>\n",
       "      <th>84544</th>\n",
       "      <td>7349</td>\n",
       "      <td>78</td>\n",
       "    </tr>\n",
       "    <tr>\n",
       "      <th>84545</th>\n",
       "      <td>7351</td>\n",
       "      <td>60</td>\n",
       "    </tr>\n",
       "    <tr>\n",
       "      <th>84546</th>\n",
       "      <td>7100</td>\n",
       "      <td>28</td>\n",
       "    </tr>\n",
       "    <tr>\n",
       "      <th>84547</th>\n",
       "      <td>7105</td>\n",
       "      <td>679</td>\n",
       "    </tr>\n",
       "  </tbody>\n",
       "</table>\n",
       "<p>84548 rows × 2 columns</p>\n",
       "</div>"
      ],
      "text/plain": [
       "       BLOCK  LOT\n",
       "0        392    6\n",
       "1        399   26\n",
       "2        399   39\n",
       "3        402   21\n",
       "4        404   55\n",
       "...      ...  ...\n",
       "84543   7349   34\n",
       "84544   7349   78\n",
       "84545   7351   60\n",
       "84546   7100   28\n",
       "84547   7105  679\n",
       "\n",
       "[84548 rows x 2 columns]"
      ]
     },
     "execution_count": 222,
     "metadata": {},
     "output_type": "execute_result"
    }
   ],
   "source": [
    "#melihat kolom 'BLOCK' dan 'LOT'\n",
    "df_nyc[['BLOCK', 'LOT']]"
   ]
  },
  {
   "cell_type": "code",
   "execution_count": 223,
   "id": "8c492948",
   "metadata": {},
   "outputs": [
    {
     "data": {
      "text/plain": [
       "0        C2\n",
       "1        C7\n",
       "3        C4\n",
       "8        D5\n",
       "9        D9\n",
       "         ..\n",
       "42265    A0\n",
       "54594    H4\n",
       "55363    J1\n",
       "81562    CM\n",
       "83597    Z7\n",
       "Name: BUILDING CLASS AT PRESENT, Length: 167, dtype: object"
      ]
     },
     "execution_count": 223,
     "metadata": {},
     "output_type": "execute_result"
    }
   ],
   "source": [
    "#membuang data yang terduplikasi (jika ada) menggunakan drop_duplicates()\n",
    "df_nyc['BUILDING CLASS AT PRESENT'].drop_duplicates()"
   ]
  },
  {
   "cell_type": "code",
   "execution_count": 224,
   "id": "5ac6fc4f",
   "metadata": {},
   "outputs": [
    {
     "data": {
      "text/plain": [
       "array(['C2', 'C7', 'C4', 'D5', 'D9', 'D7', 'D1', 'C6', 'D0', 'D4', 'RR',\n",
       "       ' ', 'R2', 'R4', 'S3', 'S4', 'S5', 'R1', 'R8', 'R9', 'K4', 'M9',\n",
       "       'M3', 'RK', 'RS', 'A9', 'A4', 'B3', 'B1', 'S2', 'C0', 'R6', 'C5',\n",
       "       'C3', 'C1', 'D6', 'S9', 'O2', 'O1', 'O3', 'O5', 'O6', 'K1', 'K2',\n",
       "       'L9', 'L8', 'L1', 'H1', 'H8', 'H3', 'R5', 'G6', 'P7', 'M1', 'N2',\n",
       "       'RB', 'RG', 'RT', 'K9', 'V1', 'GW', 'G2', 'I7', 'M4', 'Z9', 'B9',\n",
       "       'D3', 'G9', 'I9', 'U6', 'O4', 'L3', 'H2', 'E1', 'Z3', 'RW', 'C9',\n",
       "       'J5', 'N9', 'S1', 'A5', 'J8', 'B2', 'C8', 'F5', 'Q1', 'G7', 'G5',\n",
       "       'G4', 'P2', 'Q9', 'Y1', 'RA', 'RP', 'O8', 'HR', 'G1', 'E7', 'I5',\n",
       "       'R3', 'I4', 'H9', 'RH', 'D8', 'HB', 'J4', 'W2', 'P9', 'A7', 'D2',\n",
       "       'S0', 'O7', 'O9', 'W3', 'HS', 'H6', 'J9', 'R0', 'HH', 'W8', 'W6',\n",
       "       'A1', 'K5', 'F1', 'V9', 'A2', 'V0', 'G0', 'F4', 'E9', 'I3', 'W4',\n",
       "       'V3', 'I1', 'A6', 'Q8', 'A3', 'Z0', 'W1', 'U1', 'F2', 'F9', 'GU',\n",
       "       'I6', 'G8', 'P5', 'Y3', 'W9', 'M2', 'G3', 'V6', 'K7', 'K3', 'R7',\n",
       "       'P8', 'K6', 'V2', 'E2', 'Z2', 'T2', 'K8', 'P6', 'A0', 'H4', 'J1',\n",
       "       'CM', 'Z7'], dtype=object)"
      ]
     },
     "execution_count": 224,
     "metadata": {},
     "output_type": "execute_result"
    }
   ],
   "source": [
    "#melihat isi kolom 'BUILDING CLASS AT PRESENT' dengan menjabarkan keseluruhan isinya menggunakan unique()\n",
    "df_nyc['BUILDING CLASS AT PRESENT'].unique()"
   ]
  },
  {
   "cell_type": "code",
   "execution_count": 225,
   "id": "971d9bc6",
   "metadata": {},
   "outputs": [],
   "source": [
    "#menggunakan np.nan untuk mengidentifikasi missing value menjadi nan\n",
    "df_nyc['BUILDING CLASS AT PRESENT'] = df_nyc['BUILDING CLASS AT PRESENT'].replace(' ', np.nan)"
   ]
  },
  {
   "cell_type": "code",
   "execution_count": 226,
   "id": "466c6fa3",
   "metadata": {},
   "outputs": [
    {
     "data": {
      "text/plain": [
       "738"
      ]
     },
     "execution_count": 226,
     "metadata": {},
     "output_type": "execute_result"
    }
   ],
   "source": [
    "#menghitung missing value dalam kolom 'BUILDING CLASS AT PRESENT'\n",
    "df_nyc['BUILDING CLASS AT PRESENT'].isnull().sum()"
   ]
  },
  {
   "cell_type": "code",
   "execution_count": 227,
   "id": "39de8907",
   "metadata": {},
   "outputs": [
    {
     "data": {
      "text/plain": [
       "0        C2\n",
       "1        C7\n",
       "2        C7\n",
       "3        C4\n",
       "4        C2\n",
       "         ..\n",
       "84543    B9\n",
       "84544    B9\n",
       "84545    B2\n",
       "84546    K6\n",
       "84547    P9\n",
       "Name: BUILDING CLASS AT PRESENT, Length: 83810, dtype: object"
      ]
     },
     "execution_count": 227,
     "metadata": {},
     "output_type": "execute_result"
    }
   ],
   "source": [
    "#drop missing value (karena hanya 0,88% dari data keseluruhan)\n",
    "df_nyc['BUILDING CLASS AT PRESENT'].dropna()"
   ]
  },
  {
   "cell_type": "code",
   "execution_count": 228,
   "id": "53a69a27",
   "metadata": {},
   "outputs": [
    {
     "data": {
      "text/plain": [
       "array([10009,     0, 10002, 10011, 10001, 10014, 10010, 10013, 10038,\n",
       "       10007, 10036, 10019, 10018, 10003, 10005, 10004, 10006, 10016,\n",
       "       10012, 10026, 10030, 10031, 10027, 10035, 10037, 10029, 10039,\n",
       "       10032, 10128, 10463, 10034, 10025, 10022, 10017, 10167, 10023,\n",
       "       10105, 10033, 10044, 10280, 10282, 10281, 10065, 10021, 10075,\n",
       "       10028, 10024, 10069, 10040, 10457, 10458, 10451, 10456, 10469,\n",
       "       10466, 10475, 10468, 10467, 10460, 10473, 10472, 10464, 10462,\n",
       "       10803, 10465, 10459, 10471, 10453, 10452, 10454, 10474, 10455,\n",
       "       10461, 10470, 11228, 11214, 11220, 11209, 11219, 11221, 11233,\n",
       "       11213, 11206, 11216, 11205, 11238, 11226, 11204, 11234, 11217,\n",
       "       11201, 11218, 11232, 11230, 11235, 11212, 11237, 11207, 11236,\n",
       "       11239, 11231, 11249, 11224, 11225, 11208, 11210, 11203, 11229,\n",
       "       11215, 11223, 11222, 11211, 11370, 11691, 11692, 11102, 11106,\n",
       "       11103, 11377, 11105, 11101, 11361, 11360, 11357, 11358, 11364,\n",
       "       11693, 11694, 11426, 11428, 11004, 11001, 11435, 11411, 11356,\n",
       "       11354, 11420, 11368, 11373, 11372, 11363, 11362, 11369, 11378,\n",
       "       11040, 11375, 11355, 11365, 11367, 11366, 11374, 11385, 11005,\n",
       "       11421, 11379, 11432, 11423, 11412, 11427, 11429, 11433, 11414,\n",
       "       11422, 11415, 11418, 11413, 11109, 11104, 11416, 11417, 11419,\n",
       "       11436, 11434, 11430, 10312, 10305, 10314, 10303, 10310, 10302,\n",
       "       10301, 10304, 10306, 10308, 10309, 10307], dtype=int64)"
      ]
     },
     "execution_count": 228,
     "metadata": {},
     "output_type": "execute_result"
    }
   ],
   "source": [
    "#melihat isi kolom 'BUILDING CLASS AT PRESENT' dengan menjabarkan keseluruhan isinya menggunakan unique()\n",
    "df_nyc['ZIP CODE'].unique()"
   ]
  },
  {
   "cell_type": "code",
   "execution_count": 229,
   "id": "4ec4fc0e",
   "metadata": {},
   "outputs": [],
   "source": [
    "#menggunakan np.nan untuk mengidentifikasi missing value menjadi nan\n",
    "df_nyc['ZIP CODE'] = df_nyc['ZIP CODE'].replace(0, np.nan)"
   ]
  },
  {
   "cell_type": "code",
   "execution_count": 230,
   "id": "587836a0",
   "metadata": {},
   "outputs": [
    {
     "data": {
      "text/plain": [
       "982"
      ]
     },
     "execution_count": 230,
     "metadata": {},
     "output_type": "execute_result"
    }
   ],
   "source": [
    "#menghitung missing value dalam kolom 'ZIP CODE'\n",
    "df_nyc['ZIP CODE'].isnull().sum()"
   ]
  },
  {
   "cell_type": "code",
   "execution_count": 231,
   "id": "95614d2a",
   "metadata": {},
   "outputs": [
    {
     "data": {
      "text/plain": [
       "0        10009\n",
       "1        10009\n",
       "2        10009\n",
       "3        10009\n",
       "4        10009\n",
       "         ...  \n",
       "84543    10309\n",
       "84544    10309\n",
       "84545    10309\n",
       "84546    10309\n",
       "84547    10309\n",
       "Name: ZIP CODE, Length: 83566, dtype: int32"
      ]
     },
     "execution_count": 231,
     "metadata": {},
     "output_type": "execute_result"
    }
   ],
   "source": [
    "#drop missing value (karena hanya 1% dari data keseluruhan)\n",
    "df_nyc['ZIP CODE'].dropna().astype(int)"
   ]
  },
  {
   "cell_type": "code",
   "execution_count": 232,
   "id": "afe2f725",
   "metadata": {},
   "outputs": [
    {
     "data": {
      "text/plain": [
       "array([   5,   28,   16,   10,    6,   20,    8,   44,   15,   24,   30,\n",
       "          0,   47,  132,    1,    3,    4,    2,   22,    9,  210,   35,\n",
       "         17,   11,    7,   18,   27,   14,   12,   21,   40,   19,   48,\n",
       "         79,   55,  529,  476,  317,   42,   23,   25,  107,  133,   31,\n",
       "         36,   34,   33,   90,   74,   29,   13,  286,  256,  771,  257,\n",
       "         38,  311,   41,   51,   76,   54,   45,   72,   56,   68,   37,\n",
       "         50,   26,   61,   60,  894,   67,  550,  184,   78,  181,   86,\n",
       "        259,  102,  233,  121,   52, 1641,   96,   87,  100,  113,   99,\n",
       "         92,   70,  369,   77,  232,  315,   91,   32,   66,   64,  109,\n",
       "        387,  153,   59,  193,   62,  103,  146,  287,   94,   46,   84,\n",
       "         75,   65,   95,   49,   63,   43,  716,  680,  179,   71,   39,\n",
       "         53,  283,  114,   89,   73,   83,  498,   81,  162,  127,  222,\n",
       "        130,   58,  159,  462,  142,  948,  129,  889,  271,  150,  120,\n",
       "         57,  117,  106,   85,  118,  164,  139,  165,  122,  134,  278,\n",
       "        135,  324,  180,  405,  136,  168,  144,  152,  138,   88,  244,\n",
       "        291, 1844,  198,  148,  175,  296,  446,  420,  335,  143,  128])"
      ]
     },
     "execution_count": 232,
     "metadata": {},
     "output_type": "execute_result"
    }
   ],
   "source": [
    "#melihat isi kolom 'RESIDENTIAL UNITS' dengan menjabarkan keseluruhan isinya menggunakan unique() dan mengubah float menjadi int dengan astype(int)\n",
    "df_nyc['RESIDENTIAL UNITS'].unique().astype(int)"
   ]
  },
  {
   "cell_type": "code",
   "execution_count": 233,
   "id": "479bb780",
   "metadata": {},
   "outputs": [],
   "source": [
    "#menggunakan np.nan untuk mengidentifikasi missing value menjadi nan\n",
    "df_nyc['RESIDENTIAL UNITS'] = df_nyc['RESIDENTIAL UNITS'].replace(0, np.nan)"
   ]
  },
  {
   "cell_type": "code",
   "execution_count": 234,
   "id": "ebfc3b08",
   "metadata": {},
   "outputs": [
    {
     "data": {
      "text/plain": [
       "24783"
      ]
     },
     "execution_count": 234,
     "metadata": {},
     "output_type": "execute_result"
    }
   ],
   "source": [
    "#menghitung missing value dalam kolom 'RESIDENTIAL UNITS'\n",
    "df_nyc['RESIDENTIAL UNITS'].isnull().sum()"
   ]
  },
  {
   "cell_type": "code",
   "execution_count": 235,
   "id": "3886692d",
   "metadata": {},
   "outputs": [
    {
     "data": {
      "text/plain": [
       "3"
      ]
     },
     "execution_count": 235,
     "metadata": {},
     "output_type": "execute_result"
    }
   ],
   "source": [
    "#menghitung rata-rata kolom 'RESIDENTIAL UNITS'\n",
    "RU_mean = df_nyc['RESIDENTIAL UNITS'].mean()\n",
    "\n",
    "RU_rmean = round(RU_mean) #membulatkan angka menggunakan round()\n",
    "\n",
    "RU_rmean"
   ]
  },
  {
   "cell_type": "code",
   "execution_count": 236,
   "id": "0f60f269",
   "metadata": {},
   "outputs": [],
   "source": [
    "#mengisi missing value tersebut dengan rata-rata RU_rmean\n",
    "df_nyc['RESIDENTIAL UNITS'].fillna(RU_rmean, inplace=True)"
   ]
  },
  {
   "cell_type": "code",
   "execution_count": 237,
   "id": "bee299cb",
   "metadata": {},
   "outputs": [
    {
     "data": {
      "text/plain": [
       "0"
      ]
     },
     "execution_count": 237,
     "metadata": {},
     "output_type": "execute_result"
    }
   ],
   "source": [
    "#menghitung missing value dalam kolom 'RESIDENTIAL UNITS'\n",
    "df_nyc['RESIDENTIAL UNITS'].isnull().sum()"
   ]
  },
  {
   "cell_type": "code",
   "execution_count": 238,
   "id": "4681b260",
   "metadata": {},
   "outputs": [
    {
     "data": {
      "text/plain": [
       "array([   5,   31,   17,   10,    6,   20,    8,   46,   15,   24,   34,\n",
       "          0,   47,  132,    1,    4,    2,    3,    7,    9,   16,  211,\n",
       "         32,   13,   19,   35,   18,   14,   30,   12,   21,   23,   45,\n",
       "         26,   11,   48,   82,   55,   42,   38,   27,  422,  538,  482,\n",
       "        323,   52,  318,   67,   25,   22,   28,  107,  137,   36,   37,\n",
       "         96,  138,   76,   33,  286,  256,  771,  257,   44,  315,   41,\n",
       "         51,   40,   29,   81,   54,   72,   56,   68,   74,   39,   50,\n",
       "         61,  902,   70,  551,  254,  185,   78,  181,   49,   91,   87,\n",
       "        269,  102,  234,  235,  233,   59,   62,   73,   43,  121, 1653,\n",
       "        192,  100,  113,   99,   92,   75,  374,   77,  238,  317,   93,\n",
       "         69,   60,   64,  111,  395,  155,  193,  103,  146,  287,   94,\n",
       "         84,   65,   95,   63,   71,   57,  736,  680,  179,   53,  291,\n",
       "         66,  114,   79,   83,  520,  163,  127,  222,  130,   90,   58,\n",
       "        159,  462,  142,  955,  129,  889,  109,  147,  271,  150,  120,\n",
       "        117,  106,   86,  118,  164,  139,  165,  122,  279,  135,  324,\n",
       "        180,  184,  104,  405,  136,  168,  172,  436,  145,  152,  140,\n",
       "         89,  148,  244,  295, 1866,  278,  198, 2261,  176,  296,  446,\n",
       "        420,  336,  143,  126,  128])"
      ]
     },
     "execution_count": 238,
     "metadata": {},
     "output_type": "execute_result"
    }
   ],
   "source": [
    "#melihat isi kolom 'TOTAL UNITS' dengan menjabarkan keseluruhan isinya menggunakan unique() dan mengubah float menjadi int dengan astype(int)\n",
    "df_nyc['TOTAL UNITS'].unique().astype(int)"
   ]
  },
  {
   "cell_type": "code",
   "execution_count": 239,
   "id": "70fcbe29",
   "metadata": {},
   "outputs": [],
   "source": [
    "#menggunakan np.nan untuk mengidentifikasi missing value menjadi nan\n",
    "df_nyc['TOTAL UNITS'] = df_nyc['TOTAL UNITS'].replace(0, np.nan)"
   ]
  },
  {
   "cell_type": "code",
   "execution_count": 240,
   "id": "e455d9eb",
   "metadata": {},
   "outputs": [
    {
     "data": {
      "text/plain": [
       "19762"
      ]
     },
     "execution_count": 240,
     "metadata": {},
     "output_type": "execute_result"
    }
   ],
   "source": [
    "#menghitung missing value dalam kolom 'TOTAL UNITS'\n",
    "df_nyc['TOTAL UNITS'].isnull().sum()"
   ]
  },
  {
   "cell_type": "code",
   "execution_count": 241,
   "id": "bfb1ec11",
   "metadata": {},
   "outputs": [
    {
     "data": {
      "text/plain": [
       "3"
      ]
     },
     "execution_count": 241,
     "metadata": {},
     "output_type": "execute_result"
    }
   ],
   "source": [
    "#menghitung rata-rata kolom 'TOTAL UNITS'\n",
    "TU_mean = df_nyc['TOTAL UNITS'].mean()\n",
    "\n",
    "TU_rmean = round(TU_mean) #membulatkan angka menggunakan round()\n",
    "\n",
    "TU_rmean"
   ]
  },
  {
   "cell_type": "code",
   "execution_count": 242,
   "id": "b1d05fac",
   "metadata": {},
   "outputs": [],
   "source": [
    "#mengisi missing value tersebut dengan rata-rata TU_rmean\n",
    "df_nyc['TOTAL UNITS'].fillna(TU_rmean, inplace=True)"
   ]
  },
  {
   "cell_type": "code",
   "execution_count": 243,
   "id": "f3c00b7f",
   "metadata": {
    "scrolled": true
   },
   "outputs": [
    {
     "data": {
      "text/plain": [
       "array(['1633', '4616', '2212', ..., '11088', '208033', '10796'],\n",
       "      dtype=object)"
      ]
     },
     "execution_count": 243,
     "metadata": {},
     "output_type": "execute_result"
    }
   ],
   "source": [
    "#melihat isi kolom 'LAND SQUARE FEET'\n",
    "df_nyc['LAND SQUARE FEET'].unique()"
   ]
  },
  {
   "cell_type": "code",
   "execution_count": 244,
   "id": "c73916d0",
   "metadata": {},
   "outputs": [
    {
     "data": {
      "text/plain": [
       "0"
      ]
     },
     "execution_count": 244,
     "metadata": {},
     "output_type": "execute_result"
    }
   ],
   "source": [
    "#menjumlah nilai NaN pada kolom 'LAND SQUARE FEET'\n",
    "df_nyc['LAND SQUARE FEET'].isna().sum()"
   ]
  },
  {
   "cell_type": "code",
   "execution_count": 245,
   "id": "f7e8d650",
   "metadata": {},
   "outputs": [],
   "source": [
    "#mengubah dtype 'LAND SQUARE FEET' ke int\n",
    "df_nyc['LAND SQUARE FEET'] = pd.to_numeric(df_nyc['LAND SQUARE FEET'], errors='coerce', downcast='integer')"
   ]
  },
  {
   "cell_type": "code",
   "execution_count": 246,
   "id": "0d506a6d",
   "metadata": {},
   "outputs": [
    {
     "data": {
      "text/plain": [
       "array(['6440', '18690', '7803', ..., '977', '2683', '64117'], dtype=object)"
      ]
     },
     "execution_count": 246,
     "metadata": {},
     "output_type": "execute_result"
    }
   ],
   "source": [
    "#melihat isi kolom 'GROSS SQUARE FEET'\n",
    "df_nyc['GROSS SQUARE FEET'].unique()"
   ]
  },
  {
   "cell_type": "code",
   "execution_count": 247,
   "id": "efab08fb",
   "metadata": {},
   "outputs": [
    {
     "data": {
      "text/plain": [
       "0"
      ]
     },
     "execution_count": 247,
     "metadata": {},
     "output_type": "execute_result"
    }
   ],
   "source": [
    "#menjumlah nilai NaN pada kolom 'LAND SQUARE FEET'\n",
    "df_nyc['GROSS SQUARE FEET'].isna().sum()"
   ]
  },
  {
   "cell_type": "code",
   "execution_count": 248,
   "id": "0b779e04",
   "metadata": {},
   "outputs": [],
   "source": [
    "#mengubah dtype 'LAND SQUARE FEET' ke int\n",
    "df_nyc['GROSS SQUARE FEET'] = pd.to_numeric(df_nyc['GROSS SQUARE FEET'], errors='coerce', downcast='integer')"
   ]
  },
  {
   "cell_type": "code",
   "execution_count": 249,
   "id": "725906dd",
   "metadata": {},
   "outputs": [
    {
     "data": {
      "text/plain": [
       "array([1900, 1913, 1920, 1910, 2009, 1925, 1902, 1928, 1930, 1935, 1937,\n",
       "       1915, 1950, 1929, 1901, 1940, 2005,    0, 1989, 2014, 2008, 1965,\n",
       "       2013, 2003, 2006, 2007, 1951, 1899, 1850, 1905, 1864, 1917, 1911,\n",
       "       1983, 1926, 1963, 1960, 1889, 1898, 1939, 1938, 1927, 1909, 1958,\n",
       "       1904, 1907, 1987, 1931, 1984, 1948, 2004, 1918, 1875, 2012, 1973,\n",
       "       2011, 1922, 2001, 1932, 1980, 1908, 1953, 1906, 2015, 1946, 1921,\n",
       "       2010, 1954, 1111, 1924, 1990, 1890, 1991, 1988, 1895, 2016, 1957,\n",
       "       1986, 1966, 1998, 1870, 1923, 1969, 2017, 1968, 1934, 1956, 1982,\n",
       "       1914, 1903, 1967, 1840, 1912, 1964, 1955, 1961, 1851, 2000, 1959,\n",
       "       1962, 1945, 1972, 1976, 1916, 1880, 1970, 1846, 1941, 1952, 1896,\n",
       "       1985, 1981, 1888, 1947, 1975, 1974, 2002, 1994, 1892, 1894, 1891,\n",
       "       1996, 1997, 1949, 1999, 1800, 1979, 1971, 1977, 1942, 1978, 1826,\n",
       "       1881, 1919, 1883, 1936, 1993, 1995, 1933, 1992, 1943, 1944, 1847,\n",
       "       1829, 1844, 1835, 1852, 1856, 1854, 1832, 1845, 1849, 1855, 1871,\n",
       "       1893, 1865, 1882, 1680])"
      ]
     },
     "execution_count": 249,
     "metadata": {},
     "output_type": "execute_result"
    }
   ],
   "source": [
    "#melihat isi kolom 'YEAR BUILT' dan mengubah float menjadi int menggunakan astype(int)\n",
    "df_nyc['YEAR BUILT'].unique().astype(int)"
   ]
  },
  {
   "cell_type": "code",
   "execution_count": 250,
   "id": "f06c3402",
   "metadata": {},
   "outputs": [],
   "source": [
    "#menggunakan np.nan untuk mengidentifikasi missing value menjadi nan\n",
    "df_nyc['YEAR BUILT'] = df_nyc['YEAR BUILT'].replace(0, np.nan)"
   ]
  },
  {
   "cell_type": "code",
   "execution_count": 251,
   "id": "484e6adc",
   "metadata": {},
   "outputs": [
    {
     "data": {
      "text/plain": [
       "6970"
      ]
     },
     "execution_count": 251,
     "metadata": {},
     "output_type": "execute_result"
    }
   ],
   "source": [
    "#menjumlah nilai NaN pada kolom 'YEAR BUILT'\n",
    "df_nyc['YEAR BUILT'].isna().sum()"
   ]
  },
  {
   "cell_type": "code",
   "execution_count": 252,
   "id": "fbb582b1",
   "metadata": {},
   "outputs": [],
   "source": [
    "#mengisi missing value tersebut dengan mean()\n",
    "df_nyc['YEAR BUILT'].fillna(df['YEAR BUILT'].mean(), inplace=True)"
   ]
  },
  {
   "cell_type": "code",
   "execution_count": 253,
   "id": "97172874",
   "metadata": {},
   "outputs": [
    {
     "data": {
      "text/plain": [
       "0"
      ]
     },
     "execution_count": 253,
     "metadata": {},
     "output_type": "execute_result"
    }
   ],
   "source": [
    "#melihat isi kolom ' TAX CLASS AT TIME OF SALESALE' apakah ada missing value atau tidak\n",
    "df_nyc['TAX CLASS AT TIME OF SALE'].isna().sum()"
   ]
  },
  {
   "cell_type": "code",
   "execution_count": 254,
   "id": "487ba0c7",
   "metadata": {},
   "outputs": [
    {
     "data": {
      "text/plain": [
       "0         6625000\n",
       "1             -  \n",
       "2             -  \n",
       "3         3936272\n",
       "4         8000000\n",
       "           ...   \n",
       "84543      450000\n",
       "84544      550000\n",
       "84545      460000\n",
       "84546    11693337\n",
       "84547       69300\n",
       "Name: SALE PRICE, Length: 84548, dtype: object"
      ]
     },
     "execution_count": 254,
     "metadata": {},
     "output_type": "execute_result"
    }
   ],
   "source": [
    "#melihat isi kolom 'SALE PRICE'\n",
    "df_nyc['SALE PRICE']"
   ]
  },
  {
   "cell_type": "code",
   "execution_count": 255,
   "id": "f2c69272",
   "metadata": {},
   "outputs": [],
   "source": [
    "#menggunakan np.nan untuk mengidentifikasi missing value menjadi nan\n",
    "df_nyc['SALE PRICE'] = df_nyc['SALE PRICE'].replace(' -  ', np.nan)"
   ]
  },
  {
   "cell_type": "code",
   "execution_count": 256,
   "id": "937954b9",
   "metadata": {},
   "outputs": [
    {
     "data": {
      "text/plain": [
       "14561"
      ]
     },
     "execution_count": 256,
     "metadata": {},
     "output_type": "execute_result"
    }
   ],
   "source": [
    "#menjumlah nilai NaN pada 'SALE PRICE'\n",
    "df_nyc['SALE PRICE'].isna().sum()"
   ]
  },
  {
   "cell_type": "code",
   "execution_count": 257,
   "id": "11a62435",
   "metadata": {},
   "outputs": [],
   "source": [
    "#mengubah dtype 'SALE PRICE' object menjadi integer\n",
    "df_nyc['SALE PRICE'] = pd.to_numeric(df_nyc['SALE PRICE'], errors='coerce')"
   ]
  },
  {
   "cell_type": "code",
   "execution_count": 258,
   "id": "153080b2",
   "metadata": {},
   "outputs": [
    {
     "data": {
      "text/plain": [
       "1276456"
      ]
     },
     "execution_count": 258,
     "metadata": {},
     "output_type": "execute_result"
    }
   ],
   "source": [
    "#menghitung rata-rata 'SALE PRICE' dengan mean()\n",
    "SP_mean = df_nyc['SALE PRICE'].mean()\n",
    "SP_rmean = round(SP_mean) #membulatkan angka menggunakan round()\n",
    "\n",
    "SP_rmean"
   ]
  },
  {
   "cell_type": "code",
   "execution_count": 259,
   "id": "305f2d13",
   "metadata": {},
   "outputs": [],
   "source": [
    "#mengisi missing value tersebut dengan rata-rata TU_rmean\n",
    "df_nyc['SALE PRICE'].fillna(SP_rmean, inplace=True)"
   ]
  },
  {
   "cell_type": "code",
   "execution_count": 260,
   "id": "8a94310e",
   "metadata": {},
   "outputs": [
    {
     "data": {
      "text/plain": [
       "0        2017-07-19 00:00:00\n",
       "1        2016-12-14 00:00:00\n",
       "2        2016-12-09 00:00:00\n",
       "3        2016-09-23 00:00:00\n",
       "4        2016-11-17 00:00:00\n",
       "                ...         \n",
       "84543    2016-11-28 00:00:00\n",
       "84544    2017-04-21 00:00:00\n",
       "84545    2017-07-05 00:00:00\n",
       "84546    2016-12-21 00:00:00\n",
       "84547    2016-10-27 00:00:00\n",
       "Name: SALE DATE, Length: 84548, dtype: object"
      ]
     },
     "execution_count": 260,
     "metadata": {},
     "output_type": "execute_result"
    }
   ],
   "source": [
    "#melihat isi kolom 'SALE DATE'\n",
    "df_nyc['SALE DATE']"
   ]
  },
  {
   "cell_type": "code",
   "execution_count": 261,
   "id": "35740780",
   "metadata": {},
   "outputs": [],
   "source": [
    "#mengubah dtype kolom 'SALE DATE' menjadi datetime\n",
    "df_nyc['SALE DATE'] = pd.to_datetime(df_nyc['SALE DATE'])"
   ]
  },
  {
   "cell_type": "code",
   "execution_count": 262,
   "id": "bf69e089",
   "metadata": {},
   "outputs": [
    {
     "data": {
      "text/plain": [
       "0       2017-07-19\n",
       "1       2016-12-14\n",
       "2       2016-12-09\n",
       "3       2016-09-23\n",
       "4       2016-11-17\n",
       "           ...    \n",
       "84543   2016-11-28\n",
       "84544   2017-04-21\n",
       "84545   2017-07-05\n",
       "84546   2016-12-21\n",
       "84547   2016-10-27\n",
       "Name: SALE DATE, Length: 84548, dtype: datetime64[ns]"
      ]
     },
     "execution_count": 262,
     "metadata": {},
     "output_type": "execute_result"
    }
   ],
   "source": [
    "#melihat isi kolom 'SALE DATE' setelah diubah dtype nya\n",
    "df_nyc['SALE DATE']"
   ]
  },
  {
   "cell_type": "markdown",
   "id": "1c9d8363",
   "metadata": {},
   "source": [
    "# Measure of Central Tendency"
   ]
  },
  {
   "cell_type": "code",
   "execution_count": 263,
   "id": "64d3123c",
   "metadata": {},
   "outputs": [
    {
     "name": "stdout",
     "output_type": "stream",
     "text": [
      "Rata-rata harga jual : 1276456\n",
      "Nilai tengah : 670000\n",
      "Harga jual terbanyak : 1276456\n"
     ]
    }
   ],
   "source": [
    "#menghitung mean, median, dan modus\n",
    "SP_mean = df_nyc['SALE PRICE'].mean()\n",
    "SP_median = df_nyc['SALE PRICE'].median()\n",
    "SP_mode = df_nyc['SALE PRICE'].mode().values[0] #modus terbanyak pertama\n",
    "\n",
    "print(\"Rata-rata harga jual :\", round(SP_mean))\n",
    "print(\"Nilai tengah :\", round(SP_median))\n",
    "print(\"Harga jual terbanyak :\", round(SP_mode))"
   ]
  },
  {
   "cell_type": "markdown",
   "id": "fdc9b1ca",
   "metadata": {},
   "source": [
    "# Measure of Spread"
   ]
  },
  {
   "cell_type": "code",
   "execution_count": 264,
   "id": "a5de8f89",
   "metadata": {},
   "outputs": [
    {
     "name": "stdout",
     "output_type": "stream",
     "text": [
      "Rentang harga jual : 2210000000\n",
      "Varians harga jual : 107677012166148\n",
      "Nilai STD harga jual : 10376753\n"
     ]
    }
   ],
   "source": [
    "#menghitung range, variance, dan standard deviation\n",
    "SP_range= df_nyc['SALE PRICE'].max() - df_nyc['SALE PRICE'].min()\n",
    "SP_variance = df_nyc['SALE PRICE'].var()\n",
    "SP_std = df_nyc['SALE PRICE'].std()\n",
    "\n",
    "print('Rentang harga jual :', round(SP_range))\n",
    "print('Varians harga jual :', round(SP_variance))\n",
    "print('Nilai STD harga jual :', round(SP_std))"
   ]
  },
  {
   "cell_type": "markdown",
   "id": "522e1f53",
   "metadata": {},
   "source": [
    "# Confidence Intervals"
   ]
  },
  {
   "cell_type": "code",
   "execution_count": 265,
   "id": "fdda4dd6",
   "metadata": {},
   "outputs": [
    {
     "name": "stdout",
     "output_type": "stream",
     "text": [
      "Confidence Interval (95.0%): (1206510.2101451252, 1346402.613931139)\n"
     ]
    }
   ],
   "source": [
    "#mengatur tingkat kepercayaan (confidence level)\n",
    "con_level = 0.95\n",
    "\n",
    "#menghitung jumlah sampel\n",
    "n = len(df_nyc['SALE PRICE'])\n",
    "\n",
    "#menghitung derajat kebebasan\n",
    "degrees_of_freedom = n - 1\n",
    "\n",
    "#menggunakan distribusi t untuk confidence intervals\n",
    "t_value = stats.t.ppf((1 + con_level) / 2, df=degrees_of_freedom)\n",
    "\n",
    "#menghitung margin of error\n",
    "margin_of_error = t_value * (SP_std / np.sqrt(n))\n",
    "\n",
    "#menghitung lower dan upper confidence intervals\n",
    "lower = SP_mean - margin_of_error\n",
    "upper = SP_mean + margin_of_error\n",
    "\n",
    "print(f'Confidence Interval ({con_level * 100}%): ({lower}, {upper})')\n"
   ]
  },
  {
   "cell_type": "markdown",
   "id": "0093d4ee",
   "metadata": {},
   "source": [
    "# Probability Distribution"
   ]
  },
  {
   "cell_type": "code",
   "execution_count": 266,
   "id": "bb92ddfe",
   "metadata": {},
   "outputs": [
    {
     "data": {
      "image/png": "[encoded data removed]",
      "text/plain": [
       "<Figure size 640x480 with 1 Axes>"
      ]
     },
     "metadata": {},
     "output_type": "display_data"
    }
   ],
   "source": [
    "#mengambil mean (rata-rata) dan std (simpangan baku) dari kolom 'SALE PRICE'\n",
    "SP_mean = df_nyc['SALE PRICE'].mean()\n",
    "SP_std = df_nyc['SALE PRICE'].std()\n",
    "\n",
    "#menghasilkan data acak yang mengikuti distribusi normal\n",
    "sample_size = n\n",
    "data = np.random.normal(SP_mean, SP_std, sample_size)\n",
    "\n",
    "#membuat histogram dari data acak\n",
    "plt.hist(data, bins=30, density=True, alpha=0.6, color='b', label='Histogram')\n",
    "\n",
    "#membuat kurva distribusi normal berdasarkan mean dan std\n",
    "xmin, xmax = plt.xlim()\n",
    "x = np.linspace(xmin, xmax, 100)\n",
    "p = norm.pdf(x, SP_mean, SP_std)\n",
    "plt.plot(x, p, 'k', linewidth=2, label='Distribusi Normal')\n",
    "\n",
    "plt.xlabel('Nilai')\n",
    "plt.ylabel('Frekuensi Normalisasi')\n",
    "plt.title('Distribusi Normal')\n",
    "plt.legend()\n",
    "\n",
    "plt.show()"
   ]
  },
  {
   "cell_type": "markdown",
   "id": "217e833b",
   "metadata": {},
   "source": [
    "distribusi harga penjualan 'SALE PRICE' dalam dataset mengikuti distribusi normal. Hal ini dapat disimpulkan dari perbandingan antara histogram data sebenarnya dengan kurva distribusi normal yang dihasilkan. Terlihat bahwa pergerakkan kurva sejalan dengan histogram yang tersedia."
   ]
  },
  {
   "cell_type": "markdown",
   "id": "c92ca2b4",
   "metadata": {},
   "source": [
    "# Hypothesis Testing "
   ]
  },
  {
   "cell_type": "markdown",
   "id": "cfd3606f",
   "metadata": {},
   "source": [
    "#### apakah benar data 'SALE PRICE' mengikuti distribusi normal ?\n",
    "\n",
    "Untuk menguji hipotesis ini, maka langkah yang dilakukan adalah :"
   ]
  },
  {
   "cell_type": "code",
   "execution_count": 267,
   "id": "94bdb255",
   "metadata": {},
   "outputs": [
    {
     "name": "stdout",
     "output_type": "stream",
     "text": [
      "Hipotesis ditolak: Data 'SALE PRICE' tidak mengikuti distribusi normal.\n"
     ]
    },
    {
     "name": "stderr",
     "output_type": "stream",
     "text": [
      "C:\\ProgramData\\anaconda3\\Lib\\site-packages\\scipy\\stats\\_morestats.py:1816: UserWarning: p-value may not be accurate for N > 5000.\n",
      "  warnings.warn(\"p-value may not be accurate for N > 5000.\")\n"
     ]
    }
   ],
   "source": [
    "#memanggil kolom 'SALE PRICE'\n",
    "data = df_nyc['SALE PRICE']\n",
    "\n",
    "#melakukan uji normalitas Shapiro-Wilk\n",
    "statistic, p_value = stats.shapiro(data)\n",
    "\n",
    "#pengaturan tingkat signifikansi (alpha)\n",
    "alpha = 0.05\n",
    "\n",
    "#mengevaluasi hasil uji normalitas\n",
    "if p_value > alpha:\n",
    "    print(\"Hipotesis diterima: Data 'SALE PRICE' mengikuti distribusi normal.\")\n",
    "else:\n",
    "    print(\"Hipotesis ditolak: Data 'SALE PRICE' tidak mengikuti distribusi normal.\")"
   ]
  },
  {
   "cell_type": "code",
   "execution_count": 268,
   "id": "3ca90778",
   "metadata": {},
   "outputs": [
    {
     "name": "stdout",
     "output_type": "stream",
     "text": [
      "Data tidak mengikuti distribusi normal\n"
     ]
    }
   ],
   "source": [
    "#menguji dengan Anderson-Darling\n",
    "ad_statistic, ad_critical_values, ad_significance_levels = anderson(df_nyc['SALE PRICE'], dist='norm')\n",
    "if ad_statistic < ad_critical_values[2]:\n",
    "    print('Data mengikuti distribusi normal')\n",
    "else:\n",
    "    print('Data tidak mengikuti distribusi normal')"
   ]
  },
  {
   "cell_type": "markdown",
   "id": "6337f75c",
   "metadata": {},
   "source": [
    "# Overall Analysis"
   ]
  },
  {
   "cell_type": "markdown",
   "id": "9f63f7f3",
   "metadata": {},
   "source": [
    "Berdasarkan analisis yang telah dilakukan, kita dapat menyimpulkan bahwa tidak ada perbedaan signifikan antara harga penjualan di atas rata-rata dan harga penjualan di bawah rata-rata di New York City. Hal ini didukung oleh hasil uji hipotesis dengan tingkat signifikansi 0.05, yang menunjukkan bahwa p-value tidak mencapai tingkat signifikansi tersebut.\n",
    "\n",
    "Dengan kata lain, harga penjualan di atas rata-rata tidak secara signifikan lebih tinggi daripada harga penjualan di bawah rata-rata. Hasil ini memiliki implikasi dalam pengaturan harga properti di kota ini dan dapat menjadi landasan untuk pengambilan keputusan lebih lanjut dalam industri properti. Namun, penting untuk diingat bahwa hasil ini berlaku untuk dataset yang telah dianalisis dan dapat berbeda dalam situasi yang berbeda."
   ]
  }
 ],
 "metadata": {
  "kernelspec": {
   "display_name": "Python 3 (ipykernel)",
   "language": "python",
   "name": "python3"
  },
  "language_info": {
   "codemirror_mode": {
    "name": "ipython",
    "version": 3
   },
   "file_extension": ".py",
   "mimetype": "text/x-python",
   "name": "python",
   "nbconvert_exporter": "python",
   "pygments_lexer": "ipython3",
   "version": "3.11.4"
  }
 },
 "nbformat": 4,
 "nbformat_minor": 5
}
